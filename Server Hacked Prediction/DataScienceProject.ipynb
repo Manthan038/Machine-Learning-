{
  "nbformat": 4,
  "nbformat_minor": 0,
  "metadata": {
    "colab": {
      "name": "DataScienceProject.ipynb",
      "provenance": []
    },
    "kernelspec": {
      "name": "python3",
      "display_name": "Python 3"
    }
  },
  "cells": [
    {
      "cell_type": "code",
      "metadata": {
        "id": "drAIob0omeow",
        "colab_type": "code",
        "colab": {}
      },
      "source": [
        "import numpy as np\n",
        "import pandas as pd\n",
        "import seaborn as sn\n",
        "import matplotlib.pyplot as plt\n"
      ],
      "execution_count": 0,
      "outputs": []
    },
    {
      "cell_type": "code",
      "metadata": {
        "id": "A2C2ELGrmxfo",
        "colab_type": "code",
        "colab": {}
      },
      "source": [
        "df=pd.read_csv(\"/content/Train.csv\")"
      ],
      "execution_count": 0,
      "outputs": []
    },
    {
      "cell_type": "code",
      "metadata": {
        "id": "rueF6sXUnCZq",
        "colab_type": "code",
        "colab": {
          "base_uri": "https://localhost:8080/",
          "height": 834
        },
        "outputId": "eb4785c3-8200-4910-b110-c11623b6cd0c"
      },
      "source": [
        "print(df.shape)\n",
        "print(df.info())\n",
        "print(df.describe())\n",
        "df.head()"
      ],
      "execution_count": 88,
      "outputs": [
        {
          "output_type": "stream",
          "text": [
            "(23856, 18)\n",
            "<class 'pandas.core.frame.DataFrame'>\n",
            "RangeIndex: 23856 entries, 0 to 23855\n",
            "Data columns (total 18 columns):\n",
            " #   Column            Non-Null Count  Dtype  \n",
            "---  ------            --------------  -----  \n",
            " 0   INCIDENT_ID       23856 non-null  object \n",
            " 1   DATE              23856 non-null  object \n",
            " 2   X_1               23856 non-null  int64  \n",
            " 3   X_2               23856 non-null  int64  \n",
            " 4   X_3               23856 non-null  int64  \n",
            " 5   X_4               23856 non-null  int64  \n",
            " 6   X_5               23856 non-null  int64  \n",
            " 7   X_6               23856 non-null  int64  \n",
            " 8   X_7               23856 non-null  int64  \n",
            " 9   X_8               23856 non-null  int64  \n",
            " 10  X_9               23856 non-null  int64  \n",
            " 11  X_10              23856 non-null  int64  \n",
            " 12  X_11              23856 non-null  int64  \n",
            " 13  X_12              23674 non-null  float64\n",
            " 14  X_13              23856 non-null  int64  \n",
            " 15  X_14              23856 non-null  int64  \n",
            " 16  X_15              23856 non-null  int64  \n",
            " 17  MULTIPLE_OFFENSE  23856 non-null  int64  \n",
            "dtypes: float64(1), int64(15), object(2)\n",
            "memory usage: 3.3+ MB\n",
            "None\n",
            "                X_1           X_2  ...          X_15  MULTIPLE_OFFENSE\n",
            "count  23856.000000  23856.000000  ...  23856.000000      23856.000000\n",
            "mean       0.483778     24.791206  ...     33.464747          0.955231\n",
            "std        1.439738     15.240231  ...      8.386834          0.206800\n",
            "min        0.000000      0.000000  ...      0.000000          0.000000\n",
            "25%        0.000000      7.000000  ...     34.000000          1.000000\n",
            "50%        0.000000     24.000000  ...     34.000000          1.000000\n",
            "75%        0.000000     36.000000  ...     34.000000          1.000000\n",
            "max        7.000000     52.000000  ...     50.000000          1.000000\n",
            "\n",
            "[8 rows x 16 columns]\n"
          ],
          "name": "stdout"
        },
        {
          "output_type": "execute_result",
          "data": {
            "text/html": [
              "<div>\n",
              "<style scoped>\n",
              "    .dataframe tbody tr th:only-of-type {\n",
              "        vertical-align: middle;\n",
              "    }\n",
              "\n",
              "    .dataframe tbody tr th {\n",
              "        vertical-align: top;\n",
              "    }\n",
              "\n",
              "    .dataframe thead th {\n",
              "        text-align: right;\n",
              "    }\n",
              "</style>\n",
              "<table border=\"1\" class=\"dataframe\">\n",
              "  <thead>\n",
              "    <tr style=\"text-align: right;\">\n",
              "      <th></th>\n",
              "      <th>INCIDENT_ID</th>\n",
              "      <th>DATE</th>\n",
              "      <th>X_1</th>\n",
              "      <th>X_2</th>\n",
              "      <th>X_3</th>\n",
              "      <th>X_4</th>\n",
              "      <th>X_5</th>\n",
              "      <th>X_6</th>\n",
              "      <th>X_7</th>\n",
              "      <th>X_8</th>\n",
              "      <th>X_9</th>\n",
              "      <th>X_10</th>\n",
              "      <th>X_11</th>\n",
              "      <th>X_12</th>\n",
              "      <th>X_13</th>\n",
              "      <th>X_14</th>\n",
              "      <th>X_15</th>\n",
              "      <th>MULTIPLE_OFFENSE</th>\n",
              "    </tr>\n",
              "  </thead>\n",
              "  <tbody>\n",
              "    <tr>\n",
              "      <th>0</th>\n",
              "      <td>CR_102659</td>\n",
              "      <td>04-JUL-04</td>\n",
              "      <td>0</td>\n",
              "      <td>36</td>\n",
              "      <td>34</td>\n",
              "      <td>2</td>\n",
              "      <td>1</td>\n",
              "      <td>5</td>\n",
              "      <td>6</td>\n",
              "      <td>1</td>\n",
              "      <td>6</td>\n",
              "      <td>1</td>\n",
              "      <td>174</td>\n",
              "      <td>1.0</td>\n",
              "      <td>92</td>\n",
              "      <td>29</td>\n",
              "      <td>36</td>\n",
              "      <td>0</td>\n",
              "    </tr>\n",
              "    <tr>\n",
              "      <th>1</th>\n",
              "      <td>CR_189752</td>\n",
              "      <td>18-JUL-17</td>\n",
              "      <td>1</td>\n",
              "      <td>37</td>\n",
              "      <td>37</td>\n",
              "      <td>0</td>\n",
              "      <td>0</td>\n",
              "      <td>11</td>\n",
              "      <td>17</td>\n",
              "      <td>1</td>\n",
              "      <td>6</td>\n",
              "      <td>1</td>\n",
              "      <td>236</td>\n",
              "      <td>1.0</td>\n",
              "      <td>103</td>\n",
              "      <td>142</td>\n",
              "      <td>34</td>\n",
              "      <td>1</td>\n",
              "    </tr>\n",
              "    <tr>\n",
              "      <th>2</th>\n",
              "      <td>CR_184637</td>\n",
              "      <td>15-MAR-17</td>\n",
              "      <td>0</td>\n",
              "      <td>3</td>\n",
              "      <td>2</td>\n",
              "      <td>3</td>\n",
              "      <td>5</td>\n",
              "      <td>1</td>\n",
              "      <td>0</td>\n",
              "      <td>2</td>\n",
              "      <td>3</td>\n",
              "      <td>1</td>\n",
              "      <td>174</td>\n",
              "      <td>1.0</td>\n",
              "      <td>110</td>\n",
              "      <td>93</td>\n",
              "      <td>34</td>\n",
              "      <td>1</td>\n",
              "    </tr>\n",
              "    <tr>\n",
              "      <th>3</th>\n",
              "      <td>CR_139071</td>\n",
              "      <td>13-FEB-09</td>\n",
              "      <td>0</td>\n",
              "      <td>33</td>\n",
              "      <td>32</td>\n",
              "      <td>2</td>\n",
              "      <td>1</td>\n",
              "      <td>7</td>\n",
              "      <td>1</td>\n",
              "      <td>1</td>\n",
              "      <td>6</td>\n",
              "      <td>1</td>\n",
              "      <td>249</td>\n",
              "      <td>1.0</td>\n",
              "      <td>72</td>\n",
              "      <td>29</td>\n",
              "      <td>34</td>\n",
              "      <td>1</td>\n",
              "    </tr>\n",
              "    <tr>\n",
              "      <th>4</th>\n",
              "      <td>CR_109335</td>\n",
              "      <td>13-APR-05</td>\n",
              "      <td>0</td>\n",
              "      <td>33</td>\n",
              "      <td>32</td>\n",
              "      <td>2</td>\n",
              "      <td>1</td>\n",
              "      <td>8</td>\n",
              "      <td>3</td>\n",
              "      <td>0</td>\n",
              "      <td>5</td>\n",
              "      <td>1</td>\n",
              "      <td>174</td>\n",
              "      <td>0.0</td>\n",
              "      <td>112</td>\n",
              "      <td>29</td>\n",
              "      <td>43</td>\n",
              "      <td>1</td>\n",
              "    </tr>\n",
              "  </tbody>\n",
              "</table>\n",
              "</div>"
            ],
            "text/plain": [
              "  INCIDENT_ID       DATE  X_1  X_2  ...  X_13  X_14  X_15  MULTIPLE_OFFENSE\n",
              "0   CR_102659  04-JUL-04    0   36  ...    92    29    36                 0\n",
              "1   CR_189752  18-JUL-17    1   37  ...   103   142    34                 1\n",
              "2   CR_184637  15-MAR-17    0    3  ...   110    93    34                 1\n",
              "3   CR_139071  13-FEB-09    0   33  ...    72    29    34                 1\n",
              "4   CR_109335  13-APR-05    0   33  ...   112    29    43                 1\n",
              "\n",
              "[5 rows x 18 columns]"
            ]
          },
          "metadata": {
            "tags": []
          },
          "execution_count": 88
        }
      ]
    },
    {
      "cell_type": "code",
      "metadata": {
        "id": "4687-JQj1uC_",
        "colab_type": "code",
        "colab": {
          "base_uri": "https://localhost:8080/",
          "height": 34
        },
        "outputId": "0429bafa-031c-4f25-f347-9439d3edc7fe"
      },
      "source": [
        "#  check NaN values in dataframe \n",
        "df.iloc[:,2:].isnull().values.any()"
      ],
      "execution_count": 89,
      "outputs": [
        {
          "output_type": "execute_result",
          "data": {
            "text/plain": [
              "True"
            ]
          },
          "metadata": {
            "tags": []
          },
          "execution_count": 89
        }
      ]
    },
    {
      "cell_type": "code",
      "metadata": {
        "id": "8hRbxdop10BW",
        "colab_type": "code",
        "colab": {}
      },
      "source": [
        "# Fill that values with mean\n",
        "from sklearn.impute import SimpleImputer\n",
        "imp = SimpleImputer(missing_values=np.nan, strategy='mean')\n",
        "df.iloc[:,2:]=imp.fit_transform(df.iloc[:,2:])"
      ],
      "execution_count": 0,
      "outputs": []
    },
    {
      "cell_type": "code",
      "metadata": {
        "id": "uj41ZOFL2q6s",
        "colab_type": "code",
        "colab": {
          "base_uri": "https://localhost:8080/",
          "height": 34
        },
        "outputId": "4c719fa6-d848-4545-8f70-eca3e3965319"
      },
      "source": [
        "# again check for NaN values\n",
        "df.iloc[:,2:].isnull().values.any()"
      ],
      "execution_count": 99,
      "outputs": [
        {
          "output_type": "execute_result",
          "data": {
            "text/plain": [
              "False"
            ]
          },
          "metadata": {
            "tags": []
          },
          "execution_count": 99
        }
      ]
    },
    {
      "cell_type": "code",
      "metadata": {
        "id": "zgvRzqm1ne0Y",
        "colab_type": "code",
        "colab": {
          "base_uri": "https://localhost:8080/",
          "height": 302
        },
        "outputId": "e8cd3c18-d844-4f88-c74a-2aa334ea0026"
      },
      "source": [
        "correlation=df.corr()\n",
        "correlation['MULTIPLE_OFFENSE'].sort_values(ascending=False)  # we need only for Target variable"
      ],
      "execution_count": 100,
      "outputs": [
        {
          "output_type": "execute_result",
          "data": {
            "text/plain": [
              "MULTIPLE_OFFENSE    1.000000\n",
              "X_11                0.105088\n",
              "X_15                0.044916\n",
              "X_1                 0.014034\n",
              "X_13                0.006512\n",
              "X_9                -0.000748\n",
              "X_4                -0.002921\n",
              "X_5                -0.003450\n",
              "X_6                -0.007903\n",
              "X_7                -0.008036\n",
              "X_14               -0.015267\n",
              "X_3                -0.027218\n",
              "X_2                -0.027293\n",
              "X_8                -0.033397\n",
              "X_12               -0.113041\n",
              "X_10               -0.242596\n",
              "Name: MULTIPLE_OFFENSE, dtype: float64"
            ]
          },
          "metadata": {
            "tags": []
          },
          "execution_count": 100
        }
      ]
    },
    {
      "cell_type": "code",
      "metadata": {
        "id": "0h6ZYOOfowE8",
        "colab_type": "code",
        "colab": {
          "base_uri": "https://localhost:8080/",
          "height": 374
        },
        "outputId": "578234d3-6100-4c29-c12a-7154fcf75cc7"
      },
      "source": [
        "sn.heatmap(correlation,vmin=-1,vmax=1,cmap=sn.diverging_palette(20, 220, n=200),square=True)   # graphical representation of corrilation"
      ],
      "execution_count": 101,
      "outputs": [
        {
          "output_type": "execute_result",
          "data": {
            "text/plain": [
              "<matplotlib.axes._subplots.AxesSubplot at 0x7fe0a15791d0>"
            ]
          },
          "metadata": {
            "tags": []
          },
          "execution_count": 101
        },
        {
          "output_type": "display_data",
          "data": {
            "image/png": "[encoded data removed]",
            "text/plain": [
              "<Figure size 432x288 with 2 Axes>"
            ]
          },
          "metadata": {
            "tags": [],
            "needs_background": "light"
          }
        }
      ]
    },
    {
      "cell_type": "markdown",
      "metadata": {
        "id": "X7FRf4LnrAy8",
        "colab_type": "text"
      },
      "source": [
        "## check the linearity with X_10"
      ]
    },
    {
      "cell_type": "code",
      "metadata": {
        "id": "VuDsuApyp5wK",
        "colab_type": "code",
        "colab": {
          "base_uri": "https://localhost:8080/",
          "height": 297
        },
        "outputId": "3c3732a8-b106-4587-b21c-e336ebfc823e"
      },
      "source": [
        "sn.regplot(x=\"X_10\",y=\"MULTIPLE_OFFENSE\",data=df)\n",
        "\n",
        "\n",
        "# y is either 1 or 0  \n",
        "# hence it shows classification line"
      ],
      "execution_count": 102,
      "outputs": [
        {
          "output_type": "execute_result",
          "data": {
            "text/plain": [
              "<matplotlib.axes._subplots.AxesSubplot at 0x7fe09b3c5518>"
            ]
          },
          "metadata": {
            "tags": []
          },
          "execution_count": 102
        },
        {
          "output_type": "display_data",
          "data": {
            "image/png": "[encoded data removed]",
            "text/plain": [
              "<Figure size 432x288 with 1 Axes>"
            ]
          },
          "metadata": {
            "tags": [],
            "needs_background": "light"
          }
        }
      ]
    },
    {
      "cell_type": "markdown",
      "metadata": {
        "id": "GCPejOzQstRz",
        "colab_type": "text"
      },
      "source": [
        "## Let's scale the **data**"
      ]
    },
    {
      "cell_type": "code",
      "metadata": {
        "id": "Tlv1fYhGsnE1",
        "colab_type": "code",
        "colab": {
          "base_uri": "https://localhost:8080/",
          "height": 202
        },
        "outputId": "8dd76b70-a6c9-4263-ad3c-5e0648045bf9"
      },
      "source": [
        "from sklearn.preprocessing import StandardScaler\n",
        "scale=StandardScaler()\n",
        "df.iloc[:,2:17]=scale.fit_transform(df.iloc[:,2:17])\n",
        "print(df.describe())"
      ],
      "execution_count": 104,
      "outputs": [
        {
          "output_type": "stream",
          "text": [
            "                X_1           X_2  ...          X_15  MULTIPLE_OFFENSE\n",
            "count  2.385600e+04  2.385600e+04  ...  2.385600e+04      23856.000000\n",
            "mean  -9.084320e-18  3.283293e-17  ... -7.753149e-16          0.955231\n",
            "std    1.000021e+00  1.000021e+00  ...  1.000021e+00          0.206800\n",
            "min   -3.360249e-01 -1.626729e+00  ... -3.990236e+00          0.000000\n",
            "25%   -3.360249e-01 -1.167409e+00  ...  6.382199e-02          1.000000\n",
            "50%   -3.360249e-01 -5.191668e-02  ...  6.382199e-02          1.000000\n",
            "75%   -3.360249e-01  7.354895e-01  ...  6.382199e-02          1.000000\n",
            "max    4.526073e+00  1.785364e+00  ...  1.971614e+00          1.000000\n",
            "\n",
            "[8 rows x 16 columns]\n"
          ],
          "name": "stdout"
        }
      ]
    },
    {
      "cell_type": "code",
      "metadata": {
        "id": "vUjjAInvwgci",
        "colab_type": "code",
        "colab": {}
      },
      "source": [
        "from sklearn.model_selection import train_test_split\n",
        "train_data,test_data=train_test_split(df.iloc[:,2:],test_size=0.2)\n"
      ],
      "execution_count": 0,
      "outputs": []
    },
    {
      "cell_type": "code",
      "metadata": {
        "id": "JUbk7IYrw8_f",
        "colab_type": "code",
        "colab": {
          "base_uri": "https://localhost:8080/",
          "height": 118
        },
        "outputId": "a54802bd-b913-4826-c5be-3d544aa09861"
      },
      "source": [
        "print(train_data['MULTIPLE_OFFENSE'].value_counts())\n",
        "print(test_data['MULTIPLE_OFFENSE'].value_counts())"
      ],
      "execution_count": 106,
      "outputs": [
        {
          "output_type": "stream",
          "text": [
            "1.0    18241\n",
            "0.0      843\n",
            "Name: MULTIPLE_OFFENSE, dtype: int64\n",
            "1.0    4547\n",
            "0.0     225\n",
            "Name: MULTIPLE_OFFENSE, dtype: int64\n"
          ],
          "name": "stdout"
        }
      ]
    },
    {
      "cell_type": "code",
      "metadata": {
        "id": "x3mWI4HSyWaJ",
        "colab_type": "code",
        "colab": {
          "base_uri": "https://localhost:8080/",
          "height": 151
        },
        "outputId": "c79b027f-61c9-4830-9183-db405667e408"
      },
      "source": [
        "from sklearn.ensemble import RandomForestClassifier\n",
        "# from sklearn.linear_model import LogisticRegression\n",
        "model=RandomForestClassifier()   # Let use all default values\n",
        "# model=LogisticRegression()  \n",
        "model.fit(train_data.iloc[:,:15],train_data.iloc[:,15])"
      ],
      "execution_count": 120,
      "outputs": [
        {
          "output_type": "execute_result",
          "data": {
            "text/plain": [
              "RandomForestClassifier(bootstrap=True, ccp_alpha=0.0, class_weight=None,\n",
              "                       criterion='gini', max_depth=None, max_features='auto',\n",
              "                       max_leaf_nodes=None, max_samples=None,\n",
              "                       min_impurity_decrease=0.0, min_impurity_split=None,\n",
              "                       min_samples_leaf=1, min_samples_split=2,\n",
              "                       min_weight_fraction_leaf=0.0, n_estimators=100,\n",
              "                       n_jobs=None, oob_score=False, random_state=None,\n",
              "                       verbose=0, warm_start=False)"
            ]
          },
          "metadata": {
            "tags": []
          },
          "execution_count": 120
        }
      ]
    },
    {
      "cell_type": "markdown",
      "metadata": {
        "id": "ZnxVujVw4Qx-",
        "colab_type": "text"
      },
      "source": [
        "## Calculate the Error"
      ]
    },
    {
      "cell_type": "code",
      "metadata": {
        "id": "O5XIQMPN0N2K",
        "colab_type": "code",
        "colab": {
          "base_uri": "https://localhost:8080/",
          "height": 34
        },
        "outputId": "975a5bd8-43ab-4cf3-9121-dcb50ced2b72"
      },
      "source": [
        "predicted_value=model.predict(test_data.iloc[:,:15])\n",
        "from sklearn.metrics import mean_squared_error\n",
        "MSE=mean_squared_error(predicted_value,test_data.iloc[:,15])\n",
        "print(MSE)"
      ],
      "execution_count": 121,
      "outputs": [
        {
          "output_type": "stream",
          "text": [
            "0.009220452640402346\n"
          ],
          "name": "stdout"
        }
      ]
    },
    {
      "cell_type": "code",
      "metadata": {
        "id": "nUJxFguQ5hLz",
        "colab_type": "code",
        "colab": {
          "base_uri": "https://localhost:8080/",
          "height": 34
        },
        "outputId": "a2e8071b-3796-44d2-fae3-8bce4534b39d"
      },
      "source": [
        "from sklearn.model_selection import cross_val_score\n",
        "score=cross_val_score(model,test_data.iloc[:,:15],test_data.iloc[:,15],cv=10)\n",
        "print(\"Accuracy of model =\",score.mean()*100,\"%\")"
      ],
      "execution_count": 122,
      "outputs": [
        {
          "output_type": "stream",
          "text": [
            "Accuracy of model = 98.30272010385693 %\n"
          ],
          "name": "stdout"
        }
      ]
    },
    {
      "cell_type": "markdown",
      "metadata": {
        "id": "HkoG8qTz6w4S",
        "colab_type": "text"
      },
      "source": [
        "## Let's made predicts "
      ]
    },
    {
      "cell_type": "code",
      "metadata": {
        "id": "Cam9iHBM6wKS",
        "colab_type": "code",
        "colab": {}
      },
      "source": [
        "test_df=pd.read_csv(\"/content/Test.csv\")"
      ],
      "execution_count": 0,
      "outputs": []
    },
    {
      "cell_type": "code",
      "metadata": {
        "id": "fzw07lQG7GpI",
        "colab_type": "code",
        "colab": {
          "base_uri": "https://localhost:8080/",
          "height": 773
        },
        "outputId": "ed5ee9bf-181b-4814-a172-b80839717e9a"
      },
      "source": [
        "print(test_df.shape)\n",
        "print(test_df.info())\n",
        "print(test_df.describe())\n",
        "print(test_df.head())"
      ],
      "execution_count": 125,
      "outputs": [
        {
          "output_type": "stream",
          "text": [
            "(15903, 17)\n",
            "<class 'pandas.core.frame.DataFrame'>\n",
            "RangeIndex: 15903 entries, 0 to 15902\n",
            "Data columns (total 17 columns):\n",
            " #   Column       Non-Null Count  Dtype  \n",
            "---  ------       --------------  -----  \n",
            " 0   INCIDENT_ID  15903 non-null  object \n",
            " 1   DATE         15903 non-null  object \n",
            " 2   X_1          15903 non-null  int64  \n",
            " 3   X_2          15903 non-null  int64  \n",
            " 4   X_3          15903 non-null  int64  \n",
            " 5   X_4          15903 non-null  int64  \n",
            " 6   X_5          15903 non-null  int64  \n",
            " 7   X_6          15903 non-null  int64  \n",
            " 8   X_7          15903 non-null  int64  \n",
            " 9   X_8          15903 non-null  int64  \n",
            " 10  X_9          15903 non-null  int64  \n",
            " 11  X_10         15903 non-null  int64  \n",
            " 12  X_11         15903 non-null  int64  \n",
            " 13  X_12         15776 non-null  float64\n",
            " 14  X_13         15903 non-null  int64  \n",
            " 15  X_14         15903 non-null  int64  \n",
            " 16  X_15         15903 non-null  int64  \n",
            "dtypes: float64(1), int64(14), object(2)\n",
            "memory usage: 2.1+ MB\n",
            "None\n",
            "                X_1           X_2  ...          X_14          X_15\n",
            "count  15903.000000  15903.000000  ...  15903.000000  15903.000000\n",
            "mean       0.468088     24.722631  ...     72.218575     33.422625\n",
            "std        1.412112     15.228841  ...     43.438227      8.314284\n",
            "min        0.000000      0.000000  ...      0.000000      0.000000\n",
            "25%        0.000000      7.000000  ...     29.000000     34.000000\n",
            "50%        0.000000     24.000000  ...     62.000000     34.000000\n",
            "75%        0.000000     36.000000  ...    107.000000     34.000000\n",
            "max        7.000000     52.000000  ...    142.000000     50.000000\n",
            "\n",
            "[8 rows x 15 columns]\n",
            "  INCIDENT_ID       DATE  X_1  X_2  X_3  ...  X_11  X_12  X_13  X_14  X_15\n",
            "0   CR_195453  01-FEB-18    0   30   35  ...   174   NaN    72   119    23\n",
            "1   CR_103520  05-MAR-04    0   44   44  ...   316   0.0    12    29    34\n",
            "2   CR_196089  27-JAN-18    0   34   33  ...   316   1.0    72     0    34\n",
            "3   CR_112195  18-AUG-06    7    3    2  ...   174   1.0   112    87    34\n",
            "4   CR_149832  31-OCT-11    0    7    8  ...   174   0.0   112    93    43\n",
            "\n",
            "[5 rows x 17 columns]\n"
          ],
          "name": "stdout"
        }
      ]
    },
    {
      "cell_type": "markdown",
      "metadata": {
        "id": "P7wRLFWM7lHC",
        "colab_type": "text"
      },
      "source": [
        "check for NaN values"
      ]
    },
    {
      "cell_type": "code",
      "metadata": {
        "id": "goZ6Xz7M7ond",
        "colab_type": "code",
        "colab": {
          "base_uri": "https://localhost:8080/",
          "height": 34
        },
        "outputId": "3fc9611c-1d0a-4cef-d654-b7314f01defc"
      },
      "source": [
        "test_df.iloc[:,2:].isnull().values.any()"
      ],
      "execution_count": 126,
      "outputs": [
        {
          "output_type": "execute_result",
          "data": {
            "text/plain": [
              "True"
            ]
          },
          "metadata": {
            "tags": []
          },
          "execution_count": 126
        }
      ]
    },
    {
      "cell_type": "code",
      "metadata": {
        "id": "c56_Z1m27zEc",
        "colab_type": "code",
        "colab": {}
      },
      "source": [
        "#  Fill NaN values\n",
        "from sklearn.impute import SimpleImputer\n",
        "test_imp = SimpleImputer(missing_values=np.nan, strategy='mean')\n",
        "test_df.iloc[:,2:]=test_imp.fit_transform(test_df.iloc[:,2:])"
      ],
      "execution_count": 0,
      "outputs": []
    },
    {
      "cell_type": "code",
      "metadata": {
        "id": "D-VVvvSr8B7D",
        "colab_type": "code",
        "colab": {
          "base_uri": "https://localhost:8080/",
          "height": 34
        },
        "outputId": "b02ac863-24c4-4ff4-e6eb-90746354eec0"
      },
      "source": [
        "#  again check for Nan value\n",
        "test_df.iloc[:,2:].isnull().values.any()"
      ],
      "execution_count": 128,
      "outputs": [
        {
          "output_type": "execute_result",
          "data": {
            "text/plain": [
              "False"
            ]
          },
          "metadata": {
            "tags": []
          },
          "execution_count": 128
        }
      ]
    },
    {
      "cell_type": "code",
      "metadata": {
        "id": "pungWhlK8Gs1",
        "colab_type": "code",
        "colab": {
          "base_uri": "https://localhost:8080/",
          "height": 202
        },
        "outputId": "188a8588-1433-43ef-c0ff-d5dd5c13b262"
      },
      "source": [
        "# Scale the data\n",
        "from sklearn.preprocessing import StandardScaler\n",
        "scale=StandardScaler()\n",
        "test_df.iloc[:,2:]=scale.fit_transform(test_df.iloc[:,2:])\n",
        "print(test_df.describe())"
      ],
      "execution_count": 130,
      "outputs": [
        {
          "output_type": "stream",
          "text": [
            "                X_1           X_2  ...          X_14          X_15\n",
            "count  1.590300e+04  1.590300e+04  ...  1.590300e+04  1.590300e+04\n",
            "mean  -3.335626e-17  1.377255e-16  ... -3.054073e-16  1.103151e-15\n",
            "std    1.000031e+00  1.000031e+00  ...  1.000031e+00  1.000031e+00\n",
            "min   -3.314910e-01 -1.623460e+00  ... -1.662610e+00 -4.020031e+00\n",
            "25%   -3.314910e-01 -1.163791e+00  ... -9.949746e-01  6.944597e-02\n",
            "50%   -3.314910e-01 -4.745297e-02  ... -2.352512e-01  6.944597e-02\n",
            "75%   -3.314910e-01  7.405504e-01  ...  8.007352e-01  6.944597e-02\n",
            "max    4.625778e+00  1.791221e+00  ...  1.606502e+00  1.993906e+00\n",
            "\n",
            "[8 rows x 15 columns]\n"
          ],
          "name": "stdout"
        }
      ]
    },
    {
      "cell_type": "markdown",
      "metadata": {
        "id": "E1XpYWlY8uWP",
        "colab_type": "text"
      },
      "source": [
        "## Now go for prediction"
      ]
    },
    {
      "cell_type": "code",
      "metadata": {
        "id": "HAVPXTb_8a2g",
        "colab_type": "code",
        "colab": {
          "base_uri": "https://localhost:8080/",
          "height": 34
        },
        "outputId": "9ec222c0-a355-495d-b5ff-969289cb4239"
      },
      "source": [
        "predict_data=model.predict(test_df.iloc[:,2:])\n",
        "print(len(predict_data))"
      ],
      "execution_count": 131,
      "outputs": [
        {
          "output_type": "stream",
          "text": [
            "15903\n"
          ],
          "name": "stdout"
        }
      ]
    },
    {
      "cell_type": "markdown",
      "metadata": {
        "id": "xe_q52fM8-Pz",
        "colab_type": "text"
      },
      "source": [
        "# Now a make a CSV file and store predicted value with INCIDENT_ID"
      ]
    },
    {
      "cell_type": "code",
      "metadata": {
        "id": "42YDSGt48tOD",
        "colab_type": "code",
        "colab": {
          "base_uri": "https://localhost:8080/",
          "height": 195
        },
        "outputId": "01fb4f85-491d-4cde-91f6-eecfd03d9372"
      },
      "source": [
        "new_df=pd.DataFrame(test_df[\"INCIDENT_ID\"])\n",
        "new_df[\"MULTIPLE_OFFENSE\"]=predict_data\n",
        "new_df.head()"
      ],
      "execution_count": 133,
      "outputs": [
        {
          "output_type": "execute_result",
          "data": {
            "text/html": [
              "<div>\n",
              "<style scoped>\n",
              "    .dataframe tbody tr th:only-of-type {\n",
              "        vertical-align: middle;\n",
              "    }\n",
              "\n",
              "    .dataframe tbody tr th {\n",
              "        vertical-align: top;\n",
              "    }\n",
              "\n",
              "    .dataframe thead th {\n",
              "        text-align: right;\n",
              "    }\n",
              "</style>\n",
              "<table border=\"1\" class=\"dataframe\">\n",
              "  <thead>\n",
              "    <tr style=\"text-align: right;\">\n",
              "      <th></th>\n",
              "      <th>INCIDENT_ID</th>\n",
              "      <th>MULTIPLE_OFFENSE</th>\n",
              "    </tr>\n",
              "  </thead>\n",
              "  <tbody>\n",
              "    <tr>\n",
              "      <th>0</th>\n",
              "      <td>CR_195453</td>\n",
              "      <td>1.0</td>\n",
              "    </tr>\n",
              "    <tr>\n",
              "      <th>1</th>\n",
              "      <td>CR_103520</td>\n",
              "      <td>1.0</td>\n",
              "    </tr>\n",
              "    <tr>\n",
              "      <th>2</th>\n",
              "      <td>CR_196089</td>\n",
              "      <td>1.0</td>\n",
              "    </tr>\n",
              "    <tr>\n",
              "      <th>3</th>\n",
              "      <td>CR_112195</td>\n",
              "      <td>1.0</td>\n",
              "    </tr>\n",
              "    <tr>\n",
              "      <th>4</th>\n",
              "      <td>CR_149832</td>\n",
              "      <td>1.0</td>\n",
              "    </tr>\n",
              "  </tbody>\n",
              "</table>\n",
              "</div>"
            ],
            "text/plain": [
              "  INCIDENT_ID  MULTIPLE_OFFENSE\n",
              "0   CR_195453               1.0\n",
              "1   CR_103520               1.0\n",
              "2   CR_196089               1.0\n",
              "3   CR_112195               1.0\n",
              "4   CR_149832               1.0"
            ]
          },
          "metadata": {
            "tags": []
          },
          "execution_count": 133
        }
      ]
    },
    {
      "cell_type": "code",
      "metadata": {
        "id": "tDk-Nmn-9tl-",
        "colab_type": "code",
        "colab": {}
      },
      "source": [
        "#  save into file \n",
        "new_df.to_csv(\"Predicted_file.csv\",index=False)"
      ],
      "execution_count": 0,
      "outputs": []
    }
  ]
}