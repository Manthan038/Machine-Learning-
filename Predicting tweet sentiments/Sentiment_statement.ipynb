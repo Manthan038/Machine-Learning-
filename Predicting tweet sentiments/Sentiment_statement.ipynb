{
  "nbformat": 4,
  "nbformat_minor": 0,
  "metadata": {
    "colab": {
      "name": "Sentiment_statement.ipynb",
      "provenance": [],
      "collapsed_sections": []
    },
    "kernelspec": {
      "name": "python3",
      "display_name": "Python 3"
    }
  },
  "cells": [
    {
      "cell_type": "code",
      "metadata": {
        "id": "WCFeGju_kHC5",
        "colab_type": "code",
        "colab": {}
      },
      "source": [
        "import numpy as np\n",
        "import pandas as pd\n"
      ],
      "execution_count": 0,
      "outputs": []
    },
    {
      "cell_type": "code",
      "metadata": {
        "id": "GiP7EwMBkqhH",
        "colab_type": "code",
        "colab": {}
      },
      "source": [
        "df=pd.read_csv('/content/train.csv')"
      ],
      "execution_count": 0,
      "outputs": []
    },
    {
      "cell_type": "code",
      "metadata": {
        "id": "Ex9sJMbHky6s",
        "colab_type": "code",
        "colab": {
          "base_uri": "https://localhost:8080/",
          "height": 235
        },
        "outputId": "996d4757-63d7-4499-c427-592b75e8ae40"
      },
      "source": [
        "df.info()"
      ],
      "execution_count": 242,
      "outputs": [
        {
          "output_type": "stream",
          "text": [
            "<class 'pandas.core.frame.DataFrame'>\n",
            "RangeIndex: 3235 entries, 0 to 3234\n",
            "Data columns (total 6 columns):\n",
            " #   Column           Non-Null Count  Dtype  \n",
            "---  ------           --------------  -----  \n",
            " 0   id               3235 non-null   float64\n",
            " 1   original_text    3235 non-null   object \n",
            " 2   lang             3231 non-null   object \n",
            " 3   retweet_count    3231 non-null   object \n",
            " 4   original_author  3235 non-null   object \n",
            " 5   sentiment_class  3235 non-null   int64  \n",
            "dtypes: float64(1), int64(1), object(4)\n",
            "memory usage: 151.8+ KB\n"
          ],
          "name": "stdout"
        }
      ]
    },
    {
      "cell_type": "code",
      "metadata": {
        "id": "t8yjGzGak4ul",
        "colab_type": "code",
        "colab": {
          "base_uri": "https://localhost:8080/",
          "height": 195
        },
        "outputId": "1063f703-615d-414e-ec5d-add7a673f803"
      },
      "source": [
        "df.head()"
      ],
      "execution_count": 243,
      "outputs": [
        {
          "output_type": "execute_result",
          "data": {
            "text/html": [
              "<div>\n",
              "<style scoped>\n",
              "    .dataframe tbody tr th:only-of-type {\n",
              "        vertical-align: middle;\n",
              "    }\n",
              "\n",
              "    .dataframe tbody tr th {\n",
              "        vertical-align: top;\n",
              "    }\n",
              "\n",
              "    .dataframe thead th {\n",
              "        text-align: right;\n",
              "    }\n",
              "</style>\n",
              "<table border=\"1\" class=\"dataframe\">\n",
              "  <thead>\n",
              "    <tr style=\"text-align: right;\">\n",
              "      <th></th>\n",
              "      <th>id</th>\n",
              "      <th>original_text</th>\n",
              "      <th>lang</th>\n",
              "      <th>retweet_count</th>\n",
              "      <th>original_author</th>\n",
              "      <th>sentiment_class</th>\n",
              "    </tr>\n",
              "  </thead>\n",
              "  <tbody>\n",
              "    <tr>\n",
              "      <th>0</th>\n",
              "      <td>1.245025e+18</td>\n",
              "      <td>Happy #MothersDay to all you amazing mothers o...</td>\n",
              "      <td>en</td>\n",
              "      <td>0</td>\n",
              "      <td>BeenXXPired</td>\n",
              "      <td>0</td>\n",
              "    </tr>\n",
              "    <tr>\n",
              "      <th>1</th>\n",
              "      <td>1.245759e+18</td>\n",
              "      <td>Happy Mothers Day Mum - I'm sorry I can't be t...</td>\n",
              "      <td>en</td>\n",
              "      <td>1</td>\n",
              "      <td>FestiveFeeling</td>\n",
              "      <td>0</td>\n",
              "    </tr>\n",
              "    <tr>\n",
              "      <th>2</th>\n",
              "      <td>1.246087e+18</td>\n",
              "      <td>Happy mothers day To all This doing a mothers ...</td>\n",
              "      <td>en</td>\n",
              "      <td>0</td>\n",
              "      <td>KrisAllenSak</td>\n",
              "      <td>-1</td>\n",
              "    </tr>\n",
              "    <tr>\n",
              "      <th>3</th>\n",
              "      <td>1.244803e+18</td>\n",
              "      <td>Happy mothers day to this beautiful woman...ro...</td>\n",
              "      <td>en</td>\n",
              "      <td>0</td>\n",
              "      <td>Queenuchee</td>\n",
              "      <td>0</td>\n",
              "    </tr>\n",
              "    <tr>\n",
              "      <th>4</th>\n",
              "      <td>1.244876e+18</td>\n",
              "      <td>Remembering the 3 most amazing ladies who made...</td>\n",
              "      <td>en</td>\n",
              "      <td>0</td>\n",
              "      <td>brittan17446794</td>\n",
              "      <td>-1</td>\n",
              "    </tr>\n",
              "  </tbody>\n",
              "</table>\n",
              "</div>"
            ],
            "text/plain": [
              "             id  ... sentiment_class\n",
              "0  1.245025e+18  ...               0\n",
              "1  1.245759e+18  ...               0\n",
              "2  1.246087e+18  ...              -1\n",
              "3  1.244803e+18  ...               0\n",
              "4  1.244876e+18  ...              -1\n",
              "\n",
              "[5 rows x 6 columns]"
            ]
          },
          "metadata": {
            "tags": []
          },
          "execution_count": 243
        }
      ]
    },
    {
      "cell_type": "code",
      "metadata": {
        "id": "Y_0CQVzslA8r",
        "colab_type": "code",
        "colab": {
          "base_uri": "https://localhost:8080/",
          "height": 284
        },
        "outputId": "36a1a086-f17f-456c-8e7b-c5c7c7780513"
      },
      "source": [
        "df.describe()"
      ],
      "execution_count": 244,
      "outputs": [
        {
          "output_type": "execute_result",
          "data": {
            "text/html": [
              "<div>\n",
              "<style scoped>\n",
              "    .dataframe tbody tr th:only-of-type {\n",
              "        vertical-align: middle;\n",
              "    }\n",
              "\n",
              "    .dataframe tbody tr th {\n",
              "        vertical-align: top;\n",
              "    }\n",
              "\n",
              "    .dataframe thead th {\n",
              "        text-align: right;\n",
              "    }\n",
              "</style>\n",
              "<table border=\"1\" class=\"dataframe\">\n",
              "  <thead>\n",
              "    <tr style=\"text-align: right;\">\n",
              "      <th></th>\n",
              "      <th>id</th>\n",
              "      <th>sentiment_class</th>\n",
              "    </tr>\n",
              "  </thead>\n",
              "  <tbody>\n",
              "    <tr>\n",
              "      <th>count</th>\n",
              "      <td>3.235000e+03</td>\n",
              "      <td>3235.000000</td>\n",
              "    </tr>\n",
              "    <tr>\n",
              "      <th>mean</th>\n",
              "      <td>1.245344e+18</td>\n",
              "      <td>-0.001236</td>\n",
              "    </tr>\n",
              "    <tr>\n",
              "      <th>std</th>\n",
              "      <td>8.014866e+14</td>\n",
              "      <td>0.688719</td>\n",
              "    </tr>\n",
              "    <tr>\n",
              "      <th>min</th>\n",
              "      <td>1.243909e+18</td>\n",
              "      <td>-1.000000</td>\n",
              "    </tr>\n",
              "    <tr>\n",
              "      <th>25%</th>\n",
              "      <td>1.244672e+18</td>\n",
              "      <td>0.000000</td>\n",
              "    </tr>\n",
              "    <tr>\n",
              "      <th>50%</th>\n",
              "      <td>1.245406e+18</td>\n",
              "      <td>0.000000</td>\n",
              "    </tr>\n",
              "    <tr>\n",
              "      <th>75%</th>\n",
              "      <td>1.246039e+18</td>\n",
              "      <td>0.000000</td>\n",
              "    </tr>\n",
              "    <tr>\n",
              "      <th>max</th>\n",
              "      <td>1.246734e+18</td>\n",
              "      <td>1.000000</td>\n",
              "    </tr>\n",
              "  </tbody>\n",
              "</table>\n",
              "</div>"
            ],
            "text/plain": [
              "                 id  sentiment_class\n",
              "count  3.235000e+03      3235.000000\n",
              "mean   1.245344e+18        -0.001236\n",
              "std    8.014866e+14         0.688719\n",
              "min    1.243909e+18        -1.000000\n",
              "25%    1.244672e+18         0.000000\n",
              "50%    1.245406e+18         0.000000\n",
              "75%    1.246039e+18         0.000000\n",
              "max    1.246734e+18         1.000000"
            ]
          },
          "metadata": {
            "tags": []
          },
          "execution_count": 244
        }
      ]
    },
    {
      "cell_type": "code",
      "metadata": {
        "id": "DNTxkdoFmFL9",
        "colab_type": "code",
        "colab": {
          "base_uri": "https://localhost:8080/",
          "height": 1000
        },
        "outputId": "162ab841-25a6-401c-ab03-00411a7f5b29"
      },
      "source": [
        "#df['sentiment_class'].count()\n",
        "print(\"1    \",df['sentiment_class'].value_counts())\n",
        "print(\"------------------------------------------------------------\")\n",
        "print(\"2.    \",df['id'].value_counts())\n",
        "print(\"------------------------------------------------------------\")\n",
        "print(\"3.   \",df['original_author'].value_counts() )\n",
        "print(\"------------------------------------------------------------\")\n",
        "print(\"4.   \",df['retweet_count'].value_counts())\n",
        "print(\"------------------------------------------------------------\")\n",
        "print(\"5.   \",df['original_text'].value_counts())\n",
        "print(\"------------------------------------------------------------\")\n",
        "print(\"6.   \",df['lang'].value_counts())\n"
      ],
      "execution_count": 245,
      "outputs": [
        {
          "output_type": "stream",
          "text": [
            "1      0    1701\n",
            "-1     769\n",
            " 1     765\n",
            "Name: sentiment_class, dtype: int64\n",
            "------------------------------------------------------------\n",
            "2.     1.246217e+18    1\n",
            "1.246121e+18    1\n",
            "1.246485e+18    1\n",
            "1.246138e+18    1\n",
            "1.246722e+18    1\n",
            "               ..\n",
            "1.245441e+18    1\n",
            "1.244747e+18    1\n",
            "1.245156e+18    1\n",
            "1.246464e+18    1\n",
            "1.245802e+18    1\n",
            "Name: id, Length: 3235, dtype: int64\n",
            "------------------------------------------------------------\n",
            "3.    LToddWood          369\n",
            "0                  146\n",
            "MoM_Mastering       99\n",
            "andreaanderegg      86\n",
            "LiveGoodProduct     71\n",
            "                  ... \n",
            "MandyMiracle1        1\n",
            "ryanandamyshow       1\n",
            "momtessorian1        1\n",
            "lovemasamihair       1\n",
            "cin_oh_cin           1\n",
            "Name: original_author, Length: 1574, dtype: int64\n",
            "------------------------------------------------------------\n",
            "4.    0                2521\n",
            "1                 291\n",
            "en                142\n",
            "2                  84\n",
            "3                  45\n",
            "                 ... \n",
            "25                  1\n",
            "0.704111013         1\n",
            "-0.5391119831       1\n",
            "19                  1\n",
            "0.1869516081        1\n",
            "Name: retweet_count, Length: 72, dtype: int64\n",
            "------------------------------------------------------------\n",
            "5.    My life in pictures day 3 of 7 nominated by @SaTurk82 Happy Mothers Day to my wonderful mother who is self isolating. A phone cal isn’t the same but we all need to ensure we stay safe in this current climate #selfisolating pic.twitter.com/6c0EgT4wuM                                1\n",
            "happy mothers day to some amazing mams! @AstridClark @DebbieFletcher @Kathy_Xcelhair @samjmoody @denee1971 @MrsGiFletcher @mrs_izzyjudd @thegeorgiaedit @georgiaEtennant                                                                                                                 1\n",
            "Congratulations! She's beautiful! Welcome, Cara! Happy #Mothers day, Alison! (honestly thought I was losing time or something when I saw this #trending bc in USA ours is in May, then I saw that tw were from ppl in UK lol )                                                           1\n",
            "#MothersDay \"But behind all your stories is always your mother's story, because hers is where yours begins\"- Mitch Albom Happy Mother's Day #MothersDay2020 #MothersDayShoutOut #HappyMothersDay pic.twitter.com/Z9InHLlKXT                                                              1\n",
            "A heavenly Happy Mother Day to my lovely Mum, 29 years without you, still miss you loads xx #mymum #mum #mothersday #happymothersday #missyou #love https://www. instagram.com/p/B-CficjB4cC/ ?igshid=nsa3e1dhs1vj …                                                                     1\n",
            "                                                                                                                                                                                                                                                                                        ..\n",
            "Well, Ive posted my Nanna’s Mother’s Day Card this morning & while I could still get out, I’ve been to the cemetery, said Happy Mothers Day to my late Nanna Rose & had my weekly pint… https://www. instagram.com/p/B-DFl_CACmVR Uo1pHUAfvNFS07zcuWEwNzjCdQ0/?igshid=1rtn0casrfpat …    1\n",
            "Happy Mother’s Day to all the astonishing, marvellous and strong women that this day is set aside for. I hope you are able to have a wonderful day! ⁣ ⁣ Happy Mothers Day ! ⁣ #mothersday2020 #motherslove #MotheringSunday pic.twitter.com/awrMGIRJmz                                   1\n",
            "Happy #COVIDー19 #MothersDay @Tweetinggoddess . Hope you’re enjoying the #SunnySouthEast in safety Axx https:// twitter.com/Aedifadan/stat us/1241694100736356354 …                                                                                                                       1\n",
            "I nor even fit reach where my mama dey rest sef bcos of social distancing. Na wah o. Who no get means of movement except public utility, it's crazy. Happy Mothers day                                                                                                                   1\n",
            "Happy Mothers day to all our wonderful Mothers. Life does not have a Manual but we have You, Our Mothers #HappyMothersDay2020 #Crediometer pic.twitter.com/mHX0ujwsHu                                                                                                                    1\n",
            "Name: original_text, Length: 3235, dtype: int64\n",
            "------------------------------------------------------------\n",
            "6.    en                            2994\n",
            " pink Peruvian opal! via         4\n",
            "&gt                              2\n",
            "WORLDS OKAYEST MOTHER! &lt       2\n",
            " Find More                       2\n",
            "                              ... \n",
            "-0.4029838305                    1\n",
            "0.6034925894                     1\n",
            "-0.8977306127                    1\n",
            "0.3663603571                     1\n",
            "-0.0843953496                    1\n",
            "Name: lang, Length: 232, dtype: int64\n"
          ],
          "name": "stdout"
        }
      ]
    },
    {
      "cell_type": "code",
      "metadata": {
        "id": "BK-AN8cmpEAv",
        "colab_type": "code",
        "colab": {
          "base_uri": "https://localhost:8080/",
          "height": 397
        },
        "outputId": "3cb54b3f-9b9a-4408-9548-020e00527fe3"
      },
      "source": [
        "print(\"3.   \",df['original_author'].value_counts() )\n",
        "df.head()"
      ],
      "execution_count": 246,
      "outputs": [
        {
          "output_type": "stream",
          "text": [
            "3.    LToddWood          369\n",
            "0                  146\n",
            "MoM_Mastering       99\n",
            "andreaanderegg      86\n",
            "LiveGoodProduct     71\n",
            "                  ... \n",
            "MandyMiracle1        1\n",
            "ryanandamyshow       1\n",
            "momtessorian1        1\n",
            "lovemasamihair       1\n",
            "cin_oh_cin           1\n",
            "Name: original_author, Length: 1574, dtype: int64\n"
          ],
          "name": "stdout"
        },
        {
          "output_type": "execute_result",
          "data": {
            "text/html": [
              "<div>\n",
              "<style scoped>\n",
              "    .dataframe tbody tr th:only-of-type {\n",
              "        vertical-align: middle;\n",
              "    }\n",
              "\n",
              "    .dataframe tbody tr th {\n",
              "        vertical-align: top;\n",
              "    }\n",
              "\n",
              "    .dataframe thead th {\n",
              "        text-align: right;\n",
              "    }\n",
              "</style>\n",
              "<table border=\"1\" class=\"dataframe\">\n",
              "  <thead>\n",
              "    <tr style=\"text-align: right;\">\n",
              "      <th></th>\n",
              "      <th>id</th>\n",
              "      <th>original_text</th>\n",
              "      <th>lang</th>\n",
              "      <th>retweet_count</th>\n",
              "      <th>original_author</th>\n",
              "      <th>sentiment_class</th>\n",
              "    </tr>\n",
              "  </thead>\n",
              "  <tbody>\n",
              "    <tr>\n",
              "      <th>0</th>\n",
              "      <td>1.245025e+18</td>\n",
              "      <td>Happy #MothersDay to all you amazing mothers o...</td>\n",
              "      <td>en</td>\n",
              "      <td>0</td>\n",
              "      <td>BeenXXPired</td>\n",
              "      <td>0</td>\n",
              "    </tr>\n",
              "    <tr>\n",
              "      <th>1</th>\n",
              "      <td>1.245759e+18</td>\n",
              "      <td>Happy Mothers Day Mum - I'm sorry I can't be t...</td>\n",
              "      <td>en</td>\n",
              "      <td>1</td>\n",
              "      <td>FestiveFeeling</td>\n",
              "      <td>0</td>\n",
              "    </tr>\n",
              "    <tr>\n",
              "      <th>2</th>\n",
              "      <td>1.246087e+18</td>\n",
              "      <td>Happy mothers day To all This doing a mothers ...</td>\n",
              "      <td>en</td>\n",
              "      <td>0</td>\n",
              "      <td>KrisAllenSak</td>\n",
              "      <td>-1</td>\n",
              "    </tr>\n",
              "    <tr>\n",
              "      <th>3</th>\n",
              "      <td>1.244803e+18</td>\n",
              "      <td>Happy mothers day to this beautiful woman...ro...</td>\n",
              "      <td>en</td>\n",
              "      <td>0</td>\n",
              "      <td>Queenuchee</td>\n",
              "      <td>0</td>\n",
              "    </tr>\n",
              "    <tr>\n",
              "      <th>4</th>\n",
              "      <td>1.244876e+18</td>\n",
              "      <td>Remembering the 3 most amazing ladies who made...</td>\n",
              "      <td>en</td>\n",
              "      <td>0</td>\n",
              "      <td>brittan17446794</td>\n",
              "      <td>-1</td>\n",
              "    </tr>\n",
              "  </tbody>\n",
              "</table>\n",
              "</div>"
            ],
            "text/plain": [
              "             id  ... sentiment_class\n",
              "0  1.245025e+18  ...               0\n",
              "1  1.245759e+18  ...               0\n",
              "2  1.246087e+18  ...              -1\n",
              "3  1.244803e+18  ...               0\n",
              "4  1.244876e+18  ...              -1\n",
              "\n",
              "[5 rows x 6 columns]"
            ]
          },
          "metadata": {
            "tags": []
          },
          "execution_count": 246
        }
      ]
    },
    {
      "cell_type": "code",
      "metadata": {
        "id": "jbV4X6BlqAT9",
        "colab_type": "code",
        "colab": {}
      },
      "source": [
        "# temp=df.loc[df['original_author']=='MoM_Mastering']\n",
        "# print(temp['retweet_count'].value_counts())\n",
        "# temp['sentiment_class'].value_counts()\n",
        "# from sklearn.preprocessing import LabelEncoder\n",
        "# converter=LabelEncoder()\n"
      ],
      "execution_count": 0,
      "outputs": []
    },
    {
      "cell_type": "code",
      "metadata": {
        "id": "ryvhT6T0QJ6S",
        "colab_type": "code",
        "colab": {}
      },
      "source": [
        "temp=[]\n",
        "row=0\n",
        "for i in df['retweet_count']:\n",
        "  try:\n",
        "    temp.append(int(i))\n",
        "    row+=1\n",
        "  except:\n",
        "    df.drop([row],inplace=True)\n",
        "    row+=1\n",
        "\n"
      ],
      "execution_count": 0,
      "outputs": []
    },
    {
      "cell_type": "code",
      "metadata": {
        "id": "jK-gVijMS-ly",
        "colab_type": "code",
        "colab": {
          "base_uri": "https://localhost:8080/",
          "height": 34
        },
        "outputId": "d9e27bb5-5e7e-450e-9e96-ad438f6dd4f8"
      },
      "source": [
        "df.shape"
      ],
      "execution_count": 248,
      "outputs": [
        {
          "output_type": "execute_result",
          "data": {
            "text/plain": [
              "(3053, 6)"
            ]
          },
          "metadata": {
            "tags": []
          },
          "execution_count": 248
        }
      ]
    },
    {
      "cell_type": "code",
      "metadata": {
        "id": "JigKFBriTEYO",
        "colab_type": "code",
        "colab": {}
      },
      "source": [
        "df['retweet_count']=temp\n"
      ],
      "execution_count": 0,
      "outputs": []
    },
    {
      "cell_type": "code",
      "metadata": {
        "id": "vFhjN1G3wtt_",
        "colab_type": "code",
        "colab": {}
      },
      "source": [
        "# temp_original_author=converter.fit_transform(df.iloc[:,4])\n",
        "# df['original_author']=temp_original_author\n",
        "\n",
        "# df.head()\n",
        "\n",
        "\n"
      ],
      "execution_count": 0,
      "outputs": []
    },
    {
      "cell_type": "code",
      "metadata": {
        "id": "Sm8VYKHk2uhX",
        "colab_type": "code",
        "colab": {
          "base_uri": "https://localhost:8080/",
          "height": 136
        },
        "outputId": "c353433b-c11d-426c-def2-d15fb3b2dd8b"
      },
      "source": [
        "df.drop(['original_text', 'lang','original_author'], axis=1,inplace=True)  \n",
        "df.corr()"
      ],
      "execution_count": 250,
      "outputs": [
        {
          "output_type": "execute_result",
          "data": {
            "text/html": [
              "<div>\n",
              "<style scoped>\n",
              "    .dataframe tbody tr th:only-of-type {\n",
              "        vertical-align: middle;\n",
              "    }\n",
              "\n",
              "    .dataframe tbody tr th {\n",
              "        vertical-align: top;\n",
              "    }\n",
              "\n",
              "    .dataframe thead th {\n",
              "        text-align: right;\n",
              "    }\n",
              "</style>\n",
              "<table border=\"1\" class=\"dataframe\">\n",
              "  <thead>\n",
              "    <tr style=\"text-align: right;\">\n",
              "      <th></th>\n",
              "      <th>id</th>\n",
              "      <th>retweet_count</th>\n",
              "      <th>sentiment_class</th>\n",
              "    </tr>\n",
              "  </thead>\n",
              "  <tbody>\n",
              "    <tr>\n",
              "      <th>id</th>\n",
              "      <td>1.000000</td>\n",
              "      <td>-0.017429</td>\n",
              "      <td>0.012210</td>\n",
              "    </tr>\n",
              "    <tr>\n",
              "      <th>retweet_count</th>\n",
              "      <td>-0.017429</td>\n",
              "      <td>1.000000</td>\n",
              "      <td>0.020816</td>\n",
              "    </tr>\n",
              "    <tr>\n",
              "      <th>sentiment_class</th>\n",
              "      <td>0.012210</td>\n",
              "      <td>0.020816</td>\n",
              "      <td>1.000000</td>\n",
              "    </tr>\n",
              "  </tbody>\n",
              "</table>\n",
              "</div>"
            ],
            "text/plain": [
              "                       id  retweet_count  sentiment_class\n",
              "id               1.000000      -0.017429         0.012210\n",
              "retweet_count   -0.017429       1.000000         0.020816\n",
              "sentiment_class  0.012210       0.020816         1.000000"
            ]
          },
          "metadata": {
            "tags": []
          },
          "execution_count": 250
        }
      ]
    },
    {
      "cell_type": "code",
      "metadata": {
        "id": "9j9NIUDC286o",
        "colab_type": "code",
        "colab": {
          "base_uri": "https://localhost:8080/",
          "height": 151
        },
        "outputId": "75b3b516-1447-41d5-913d-86543f689b52"
      },
      "source": [
        "from sklearn.ensemble import RandomForestClassifier\n",
        "model=RandomForestClassifier()\n",
        "model.fit(df.iloc[:,:2],df['sentiment_class'])\n"
      ],
      "execution_count": 252,
      "outputs": [
        {
          "output_type": "execute_result",
          "data": {
            "text/plain": [
              "RandomForestClassifier(bootstrap=True, ccp_alpha=0.0, class_weight=None,\n",
              "                       criterion='gini', max_depth=None, max_features='auto',\n",
              "                       max_leaf_nodes=None, max_samples=None,\n",
              "                       min_impurity_decrease=0.0, min_impurity_split=None,\n",
              "                       min_samples_leaf=1, min_samples_split=2,\n",
              "                       min_weight_fraction_leaf=0.0, n_estimators=100,\n",
              "                       n_jobs=None, oob_score=False, random_state=None,\n",
              "                       verbose=0, warm_start=False)"
            ]
          },
          "metadata": {
            "tags": []
          },
          "execution_count": 252
        }
      ]
    },
    {
      "cell_type": "code",
      "metadata": {
        "id": "MpIBCpyLHw_d",
        "colab_type": "code",
        "colab": {
          "base_uri": "https://localhost:8080/",
          "height": 67
        },
        "outputId": "5c06bee9-d618-4f44-c814-70f0e0f774ab"
      },
      "source": [
        "from sklearn.metrics import confusion_matrix\n",
        "predicted_value=model.predict(df.iloc[:,:2])\n",
        "con=confusion_matrix(df[\"sentiment_class\"], predicted_value)\n",
        "print(con)"
      ],
      "execution_count": 255,
      "outputs": [
        {
          "output_type": "stream",
          "text": [
            "[[ 684   63   22]\n",
            " [  35 1453   31]\n",
            " [  25   93  647]]\n"
          ],
          "name": "stdout"
        }
      ]
    },
    {
      "cell_type": "markdown",
      "metadata": {
        "id": "TU6Z1Kp5LVO5",
        "colab_type": "text"
      },
      "source": [
        "## Testing on Test dataset"
      ]
    },
    {
      "cell_type": "code",
      "metadata": {
        "id": "P_xyCwRDKqEN",
        "colab_type": "code",
        "colab": {
          "base_uri": "https://localhost:8080/",
          "height": 195
        },
        "outputId": "d430a49e-7036-459a-de70-ef7f7445cc75"
      },
      "source": [
        "test_df=pd.read_csv(\"/content/test.csv\")\n",
        "test_df.head()"
      ],
      "execution_count": 256,
      "outputs": [
        {
          "output_type": "execute_result",
          "data": {
            "text/html": [
              "<div>\n",
              "<style scoped>\n",
              "    .dataframe tbody tr th:only-of-type {\n",
              "        vertical-align: middle;\n",
              "    }\n",
              "\n",
              "    .dataframe tbody tr th {\n",
              "        vertical-align: top;\n",
              "    }\n",
              "\n",
              "    .dataframe thead th {\n",
              "        text-align: right;\n",
              "    }\n",
              "</style>\n",
              "<table border=\"1\" class=\"dataframe\">\n",
              "  <thead>\n",
              "    <tr style=\"text-align: right;\">\n",
              "      <th></th>\n",
              "      <th>id</th>\n",
              "      <th>original_text</th>\n",
              "      <th>lang</th>\n",
              "      <th>retweet_count</th>\n",
              "      <th>original_author</th>\n",
              "    </tr>\n",
              "  </thead>\n",
              "  <tbody>\n",
              "    <tr>\n",
              "      <th>0</th>\n",
              "      <td>1.246628e+18</td>\n",
              "      <td>3. Yeah, I once cooked potatoes when I was 3 y...</td>\n",
              "      <td>en</td>\n",
              "      <td>0</td>\n",
              "      <td>LToddWood</td>\n",
              "    </tr>\n",
              "    <tr>\n",
              "      <th>1</th>\n",
              "      <td>1.245898e+18</td>\n",
              "      <td>Happy Mother's Day to all the mums, step-mums,...</td>\n",
              "      <td>en</td>\n",
              "      <td>0</td>\n",
              "      <td>iiarushii</td>\n",
              "    </tr>\n",
              "    <tr>\n",
              "      <th>2</th>\n",
              "      <td>1.244717e+18</td>\n",
              "      <td>I love the people from the UK, however, when I...</td>\n",
              "      <td>en</td>\n",
              "      <td>0</td>\n",
              "      <td>andreaanderegg</td>\n",
              "    </tr>\n",
              "    <tr>\n",
              "      <th>3</th>\n",
              "      <td>1.245730e+18</td>\n",
              "      <td>Happy 81st Birthday Happy Mother’s Day to my m...</td>\n",
              "      <td>en</td>\n",
              "      <td>1</td>\n",
              "      <td>TheBookTweeters</td>\n",
              "    </tr>\n",
              "    <tr>\n",
              "      <th>4</th>\n",
              "      <td>1.244636e+18</td>\n",
              "      <td>Happy Mothers day to all those wonderful mothe...</td>\n",
              "      <td>en</td>\n",
              "      <td>0</td>\n",
              "      <td>andreaanderegg</td>\n",
              "    </tr>\n",
              "  </tbody>\n",
              "</table>\n",
              "</div>"
            ],
            "text/plain": [
              "             id  ...  original_author\n",
              "0  1.246628e+18  ...        LToddWood\n",
              "1  1.245898e+18  ...        iiarushii\n",
              "2  1.244717e+18  ...   andreaanderegg\n",
              "3  1.245730e+18  ...  TheBookTweeters\n",
              "4  1.244636e+18  ...   andreaanderegg\n",
              "\n",
              "[5 rows x 5 columns]"
            ]
          },
          "metadata": {
            "tags": []
          },
          "execution_count": 256
        }
      ]
    },
    {
      "cell_type": "code",
      "metadata": {
        "id": "-zIo2dBULpHt",
        "colab_type": "code",
        "colab": {
          "base_uri": "https://localhost:8080/",
          "height": 218
        },
        "outputId": "b72e42e2-614b-462e-8d15-ce0d1ca63047"
      },
      "source": [
        "test_df.info()"
      ],
      "execution_count": 257,
      "outputs": [
        {
          "output_type": "stream",
          "text": [
            "<class 'pandas.core.frame.DataFrame'>\n",
            "RangeIndex: 1387 entries, 0 to 1386\n",
            "Data columns (total 5 columns):\n",
            " #   Column           Non-Null Count  Dtype  \n",
            "---  ------           --------------  -----  \n",
            " 0   id               1387 non-null   float64\n",
            " 1   original_text    1387 non-null   object \n",
            " 2   lang             1387 non-null   object \n",
            " 3   retweet_count    1386 non-null   object \n",
            " 4   original_author  1387 non-null   object \n",
            "dtypes: float64(1), object(4)\n",
            "memory usage: 54.3+ KB\n"
          ],
          "name": "stdout"
        }
      ]
    },
    {
      "cell_type": "markdown",
      "metadata": {
        "id": "vFqbEsgPL_iC",
        "colab_type": "text"
      },
      "source": [
        "## Drop the unwanted columns "
      ]
    },
    {
      "cell_type": "code",
      "metadata": {
        "id": "dWXoEuorLxz8",
        "colab_type": "code",
        "colab": {}
      },
      "source": [
        "test_df.drop(['original_text', 'lang','original_author'], axis=1,inplace=True)"
      ],
      "execution_count": 0,
      "outputs": []
    },
    {
      "cell_type": "code",
      "metadata": {
        "id": "G7hPp0saMI2K",
        "colab_type": "code",
        "colab": {
          "base_uri": "https://localhost:8080/",
          "height": 195
        },
        "outputId": "84abb39d-d1cb-4d12-a8ac-f546b3cf00d9"
      },
      "source": [
        "test_df.head()"
      ],
      "execution_count": 259,
      "outputs": [
        {
          "output_type": "execute_result",
          "data": {
            "text/html": [
              "<div>\n",
              "<style scoped>\n",
              "    .dataframe tbody tr th:only-of-type {\n",
              "        vertical-align: middle;\n",
              "    }\n",
              "\n",
              "    .dataframe tbody tr th {\n",
              "        vertical-align: top;\n",
              "    }\n",
              "\n",
              "    .dataframe thead th {\n",
              "        text-align: right;\n",
              "    }\n",
              "</style>\n",
              "<table border=\"1\" class=\"dataframe\">\n",
              "  <thead>\n",
              "    <tr style=\"text-align: right;\">\n",
              "      <th></th>\n",
              "      <th>id</th>\n",
              "      <th>retweet_count</th>\n",
              "    </tr>\n",
              "  </thead>\n",
              "  <tbody>\n",
              "    <tr>\n",
              "      <th>0</th>\n",
              "      <td>1.246628e+18</td>\n",
              "      <td>0</td>\n",
              "    </tr>\n",
              "    <tr>\n",
              "      <th>1</th>\n",
              "      <td>1.245898e+18</td>\n",
              "      <td>0</td>\n",
              "    </tr>\n",
              "    <tr>\n",
              "      <th>2</th>\n",
              "      <td>1.244717e+18</td>\n",
              "      <td>0</td>\n",
              "    </tr>\n",
              "    <tr>\n",
              "      <th>3</th>\n",
              "      <td>1.245730e+18</td>\n",
              "      <td>1</td>\n",
              "    </tr>\n",
              "    <tr>\n",
              "      <th>4</th>\n",
              "      <td>1.244636e+18</td>\n",
              "      <td>0</td>\n",
              "    </tr>\n",
              "  </tbody>\n",
              "</table>\n",
              "</div>"
            ],
            "text/plain": [
              "             id retweet_count\n",
              "0  1.246628e+18             0\n",
              "1  1.245898e+18             0\n",
              "2  1.244717e+18             0\n",
              "3  1.245730e+18             1\n",
              "4  1.244636e+18             0"
            ]
          },
          "metadata": {
            "tags": []
          },
          "execution_count": 259
        }
      ]
    },
    {
      "cell_type": "code",
      "metadata": {
        "id": "vmSNfFaoUFT6",
        "colab_type": "code",
        "colab": {}
      },
      "source": [
        "temp=[]\n",
        "row=0\n",
        "for i in test_df['retweet_count']:\n",
        "  try:\n",
        "    temp.append(int(i))\n",
        "    row+=1\n",
        "  except:\n",
        "    test_df.drop([row],inplace=True)\n",
        "    row+=1"
      ],
      "execution_count": 0,
      "outputs": []
    },
    {
      "cell_type": "code",
      "metadata": {
        "id": "V2wcIAmMUPiH",
        "colab_type": "code",
        "colab": {
          "base_uri": "https://localhost:8080/",
          "height": 34
        },
        "outputId": "b3e6fbe7-052f-4ba8-9c1d-1b602c657c66"
      },
      "source": [
        "test_df.shape"
      ],
      "execution_count": 261,
      "outputs": [
        {
          "output_type": "execute_result",
          "data": {
            "text/plain": [
              "(1324, 2)"
            ]
          },
          "metadata": {
            "tags": []
          },
          "execution_count": 261
        }
      ]
    },
    {
      "cell_type": "code",
      "metadata": {
        "id": "xVx6L23IXIp8",
        "colab_type": "code",
        "colab": {}
      },
      "source": [
        "predict_y=np.array(model.predict(test_df)).reshape(-1,1)\n",
        "print(predict_y)"
      ],
      "execution_count": 0,
      "outputs": []
    },
    {
      "cell_type": "code",
      "metadata": {
        "id": "sDdDTvjPXpyK",
        "colab_type": "code",
        "colab": {}
      },
      "source": [
        "new_df=pd.DataFrame(test_df['id'],columns=['id'])\n",
        "new_df['sentiment_class']=predict_y"
      ],
      "execution_count": 0,
      "outputs": []
    },
    {
      "cell_type": "code",
      "metadata": {
        "id": "aYEOdVVMX7M3",
        "colab_type": "code",
        "colab": {}
      },
      "source": [
        "new_df.to_csv('/content/drive/My Drive/Colab Notebooks/Hacker rank sentiment prediction/sentiment_class_prediction.csv', index=False)"
      ],
      "execution_count": 0,
      "outputs": []
    },
    {
      "cell_type": "code",
      "metadata": {
        "id": "V3mp2_v9agl1",
        "colab_type": "code",
        "colab": {
          "base_uri": "https://localhost:8080/",
          "height": 121
        },
        "outputId": "e11fae85-d243-41f9-da5b-5c291a047856"
      },
      "source": [
        "from google.colab import drive\n",
        "drive.mount('/content/drive')"
      ],
      "execution_count": 289,
      "outputs": [
        {
          "output_type": "stream",
          "text": [
            "Go to this URL in a browser: https://accounts.google.com/o/oauth2/auth?client_id=947318989803-6bn6qk8qdgf4n4g3pfee6491hc0brc4i.apps.googleusercontent.com&redirect_uri=urn%3aietf%3awg%3aoauth%3a2.0%3aoob&response_type=code&scope=email%20https%3a%2f%2fwww.googleapis.com%2fauth%2fdocs.test%20https%3a%2f%2fwww.googleapis.com%2fauth%2fdrive%20https%3a%2f%2fwww.googleapis.com%2fauth%2fdrive.photos.readonly%20https%3a%2f%2fwww.googleapis.com%2fauth%2fpeopleapi.readonly\n",
            "\n",
            "Enter your authorization code:\n",
            "··········\n",
            "Mounted at /content/drive\n"
          ],
          "name": "stdout"
        }
      ]
    }
  ]
}