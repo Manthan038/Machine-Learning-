{
  "nbformat": 4,
  "nbformat_minor": 0,
  "metadata": {
    "colab": {
      "name": "satyamPlacement.ipynb",
      "provenance": []
    },
    "kernelspec": {
      "name": "python3",
      "display_name": "Python 3"
    }
  },
  "cells": [
    {
      "cell_type": "code",
      "metadata": {
        "id": "zHmUHuFP3wXw"
      },
      "source": [
        "import re\n",
        "import pandas as pd\n",
        "import numpy as np\n",
        "import matplotlib.pyplot as plt\n",
        "import seaborn as sns\n",
        "\n"
      ],
      "execution_count": 5,
      "outputs": []
    },
    {
      "cell_type": "code",
      "metadata": {
        "id": "hkk0gqne-biB"
      },
      "source": [
        "df=pd.read_csv(\"/content/TRAIN.csv\")  # training load\n",
        "test_data=pd.read_csv(\"/content/TEST.csv\")"
      ],
      "execution_count": 51,
      "outputs": []
    },
    {
      "cell_type": "code",
      "metadata": {
        "id": "CmBN3KZJCcXs"
      },
      "source": [
        "df['main'] = df['TITLE'].map(str) + ' ' + df['ABSTRACT'].map(str)\n",
        "test_data['main'] = test_data['TITLE'].map(str) + ' ' + test_data['ABSTRACT'].map(str)\n"
      ],
      "execution_count": 52,
      "outputs": []
    },
    {
      "cell_type": "code",
      "metadata": {
        "id": "zjYjl8FSEH5h",
        "outputId": "10c4c9a2-9c04-4e18-ea86-6203cb3fddf9",
        "colab": {
          "base_uri": "https://localhost:8080/",
          "height": 518
        }
      },
      "source": [
        "print(df.shape)\n",
        "df.head()"
      ],
      "execution_count": 54,
      "outputs": [
        {
          "output_type": "stream",
          "text": [
            "(17000, 10)\n"
          ],
          "name": "stdout"
        },
        {
          "output_type": "execute_result",
          "data": {
            "text/html": [
              "<div>\n",
              "<style scoped>\n",
              "    .dataframe tbody tr th:only-of-type {\n",
              "        vertical-align: middle;\n",
              "    }\n",
              "\n",
              "    .dataframe tbody tr th {\n",
              "        vertical-align: top;\n",
              "    }\n",
              "\n",
              "    .dataframe thead th {\n",
              "        text-align: right;\n",
              "    }\n",
              "</style>\n",
              "<table border=\"1\" class=\"dataframe\">\n",
              "  <thead>\n",
              "    <tr style=\"text-align: right;\">\n",
              "      <th></th>\n",
              "      <th>TITLE</th>\n",
              "      <th>ABSTRACT</th>\n",
              "      <th>Computer Science</th>\n",
              "      <th>Physics</th>\n",
              "      <th>Mathematics</th>\n",
              "      <th>Statistics</th>\n",
              "      <th>Quantitative Biology</th>\n",
              "      <th>Quantitative Finance</th>\n",
              "      <th>labels</th>\n",
              "      <th>main</th>\n",
              "    </tr>\n",
              "  </thead>\n",
              "  <tbody>\n",
              "    <tr>\n",
              "      <th>0</th>\n",
              "      <td>ChemGAN challenge for drug discovery: can AI r...</td>\n",
              "      <td>Generating molecules with desired chemical p...</td>\n",
              "      <td>1</td>\n",
              "      <td>0</td>\n",
              "      <td>0</td>\n",
              "      <td>1</td>\n",
              "      <td>0</td>\n",
              "      <td>0</td>\n",
              "      <td>Computer Science,Statistics</td>\n",
              "      <td>ChemGAN challenge for drug discovery: can AI r...</td>\n",
              "    </tr>\n",
              "    <tr>\n",
              "      <th>1</th>\n",
              "      <td>Hybrid graphene tunneling photoconductor with ...</td>\n",
              "      <td>Hybrid graphene photoconductor/phototransist...</td>\n",
              "      <td>0</td>\n",
              "      <td>1</td>\n",
              "      <td>0</td>\n",
              "      <td>0</td>\n",
              "      <td>0</td>\n",
              "      <td>0</td>\n",
              "      <td>Physics</td>\n",
              "      <td>Hybrid graphene tunneling photoconductor with ...</td>\n",
              "    </tr>\n",
              "    <tr>\n",
              "      <th>2</th>\n",
              "      <td>Temperature Dependence of Magnetic Excitations...</td>\n",
              "      <td>When an ordered spin system of a given dimen...</td>\n",
              "      <td>0</td>\n",
              "      <td>1</td>\n",
              "      <td>0</td>\n",
              "      <td>0</td>\n",
              "      <td>0</td>\n",
              "      <td>0</td>\n",
              "      <td>Physics</td>\n",
              "      <td>Temperature Dependence of Magnetic Excitations...</td>\n",
              "    </tr>\n",
              "    <tr>\n",
              "      <th>3</th>\n",
              "      <td>A Las Vegas algorithm to solve the elliptic cu...</td>\n",
              "      <td>In this paper, we describe a new Las Vegas a...</td>\n",
              "      <td>1</td>\n",
              "      <td>0</td>\n",
              "      <td>1</td>\n",
              "      <td>0</td>\n",
              "      <td>0</td>\n",
              "      <td>0</td>\n",
              "      <td>Computer Science,Mathematics</td>\n",
              "      <td>A Las Vegas algorithm to solve the elliptic cu...</td>\n",
              "    </tr>\n",
              "    <tr>\n",
              "      <th>4</th>\n",
              "      <td>Comparing simulations and test data of a radia...</td>\n",
              "      <td>The VIS instrument on board the Euclid missi...</td>\n",
              "      <td>0</td>\n",
              "      <td>1</td>\n",
              "      <td>0</td>\n",
              "      <td>0</td>\n",
              "      <td>0</td>\n",
              "      <td>0</td>\n",
              "      <td>Physics</td>\n",
              "      <td>Comparing simulations and test data of a radia...</td>\n",
              "    </tr>\n",
              "  </tbody>\n",
              "</table>\n",
              "</div>"
            ],
            "text/plain": [
              "                                               TITLE  ...                                               main\n",
              "0  ChemGAN challenge for drug discovery: can AI r...  ...  ChemGAN challenge for drug discovery: can AI r...\n",
              "1  Hybrid graphene tunneling photoconductor with ...  ...  Hybrid graphene tunneling photoconductor with ...\n",
              "2  Temperature Dependence of Magnetic Excitations...  ...  Temperature Dependence of Magnetic Excitations...\n",
              "3  A Las Vegas algorithm to solve the elliptic cu...  ...  A Las Vegas algorithm to solve the elliptic cu...\n",
              "4  Comparing simulations and test data of a radia...  ...  Comparing simulations and test data of a radia...\n",
              "\n",
              "[5 rows x 10 columns]"
            ]
          },
          "metadata": {
            "tags": []
          },
          "execution_count": 54
        }
      ]
    },
    {
      "cell_type": "code",
      "metadata": {
        "id": "x4OGvI6IELex",
        "outputId": "17642978-2a22-4aaf-ff1b-b501be9c674b",
        "colab": {
          "base_uri": "https://localhost:8080/",
          "height": 212
        }
      },
      "source": [
        "print(test_data.shape)\n",
        "test_data.head()"
      ],
      "execution_count": 55,
      "outputs": [
        {
          "output_type": "stream",
          "text": [
            "(3972, 3)\n"
          ],
          "name": "stdout"
        },
        {
          "output_type": "execute_result",
          "data": {
            "text/html": [
              "<div>\n",
              "<style scoped>\n",
              "    .dataframe tbody tr th:only-of-type {\n",
              "        vertical-align: middle;\n",
              "    }\n",
              "\n",
              "    .dataframe tbody tr th {\n",
              "        vertical-align: top;\n",
              "    }\n",
              "\n",
              "    .dataframe thead th {\n",
              "        text-align: right;\n",
              "    }\n",
              "</style>\n",
              "<table border=\"1\" class=\"dataframe\">\n",
              "  <thead>\n",
              "    <tr style=\"text-align: right;\">\n",
              "      <th></th>\n",
              "      <th>TITLE</th>\n",
              "      <th>ABSTRACT</th>\n",
              "      <th>main</th>\n",
              "    </tr>\n",
              "  </thead>\n",
              "  <tbody>\n",
              "    <tr>\n",
              "      <th>0</th>\n",
              "      <td>On the wave propagation analysis and supratran...</td>\n",
              "      <td>In this research, we investigate the nonline...</td>\n",
              "      <td>On the wave propagation analysis and supratran...</td>\n",
              "    </tr>\n",
              "    <tr>\n",
              "      <th>1</th>\n",
              "      <td>Thermal and non-thermal emission from the coco...</td>\n",
              "      <td>We present hydrodynamic simulations of the h...</td>\n",
              "      <td>Thermal and non-thermal emission from the coco...</td>\n",
              "    </tr>\n",
              "    <tr>\n",
              "      <th>2</th>\n",
              "      <td>HTEM data improve 3D modelling of aquifers in ...</td>\n",
              "      <td>In Paris Basin, we evaluate how HTEM data co...</td>\n",
              "      <td>HTEM data improve 3D modelling of aquifers in ...</td>\n",
              "    </tr>\n",
              "    <tr>\n",
              "      <th>3</th>\n",
              "      <td>Chirality-induced Antisymmetry in Magnetic Dom...</td>\n",
              "      <td>In chiral magnetic materials, numerous intri...</td>\n",
              "      <td>Chirality-induced Antisymmetry in Magnetic Dom...</td>\n",
              "    </tr>\n",
              "    <tr>\n",
              "      <th>4</th>\n",
              "      <td>In-home and remote use of robotic body surroga...</td>\n",
              "      <td>People with profound motor deficits could pe...</td>\n",
              "      <td>In-home and remote use of robotic body surroga...</td>\n",
              "    </tr>\n",
              "  </tbody>\n",
              "</table>\n",
              "</div>"
            ],
            "text/plain": [
              "                                               TITLE  ...                                               main\n",
              "0  On the wave propagation analysis and supratran...  ...  On the wave propagation analysis and supratran...\n",
              "1  Thermal and non-thermal emission from the coco...  ...  Thermal and non-thermal emission from the coco...\n",
              "2  HTEM data improve 3D modelling of aquifers in ...  ...  HTEM data improve 3D modelling of aquifers in ...\n",
              "3  Chirality-induced Antisymmetry in Magnetic Dom...  ...  Chirality-induced Antisymmetry in Magnetic Dom...\n",
              "4  In-home and remote use of robotic body surroga...  ...  In-home and remote use of robotic body surroga...\n",
              "\n",
              "[5 rows x 3 columns]"
            ]
          },
          "metadata": {
            "tags": []
          },
          "execution_count": 55
        }
      ]
    },
    {
      "cell_type": "code",
      "metadata": {
        "id": "a1k5KZVM7nk0"
      },
      "source": [
        "from sklearn.metrics import accuracy_score\n",
        "from sklearn.svm import LinearSVC\n",
        "from sklearn.feature_extraction.text import CountVectorizer\n"
      ],
      "execution_count": 56,
      "outputs": []
    },
    {
      "cell_type": "code",
      "metadata": {
        "id": "r4GeZW_k-YG5",
        "outputId": "8256186b-52e4-4c26-8336-23e45be5cf8f",
        "colab": {
          "base_uri": "https://localhost:8080/",
          "height": 84
        }
      },
      "source": [
        "vectorizer = CountVectorizer(stop_words=\"english\",\n",
        "                             preprocessor=clean_text)\n",
        "\n",
        "training_features = vectorizer.fit_transform(df[\"main\"])    \n",
        "test_features = vectorizer.transform(test_data[\"main\"])\n",
        "# print(training_features)\n",
        "model = LinearSVC()\n",
        "model.fit(training_features, df[\"labels\"])\n",
        "# y_pred = model.predict(test_features)\n",
        "\n",
        "# acc = accuracy_score(df[\"labels\"], y_pred)\n",
        "\n",
        "# print(\"Accuracy on the IMDB dataset: {:.2f}\".format(acc*100))"
      ],
      "execution_count": 58,
      "outputs": [
        {
          "output_type": "execute_result",
          "data": {
            "text/plain": [
              "LinearSVC(C=1.0, class_weight=None, dual=True, fit_intercept=True,\n",
              "          intercept_scaling=1, loss='squared_hinge', max_iter=1000,\n",
              "          multi_class='ovr', penalty='l2', random_state=None, tol=0.0001,\n",
              "          verbose=0)"
            ]
          },
          "metadata": {
            "tags": []
          },
          "execution_count": 58
        }
      ]
    },
    {
      "cell_type": "code",
      "metadata": {
        "id": "KG5sFyMlFOI-"
      },
      "source": [
        "predicted_value=model.predict(test_features)"
      ],
      "execution_count": 61,
      "outputs": []
    },
    {
      "cell_type": "code",
      "metadata": {
        "id": "E3HCg8i0C9ca",
        "outputId": "25651aba-c497-4281-abe6-561cce8bff91",
        "colab": {
          "base_uri": "https://localhost:8080/",
          "height": 343
        }
      },
      "source": [
        "final_value=pd.DataFrame(predicted_value,columns=['labels'])\n",
        "final_value.head(10)"
      ],
      "execution_count": 70,
      "outputs": [
        {
          "output_type": "execute_result",
          "data": {
            "text/html": [
              "<div>\n",
              "<style scoped>\n",
              "    .dataframe tbody tr th:only-of-type {\n",
              "        vertical-align: middle;\n",
              "    }\n",
              "\n",
              "    .dataframe tbody tr th {\n",
              "        vertical-align: top;\n",
              "    }\n",
              "\n",
              "    .dataframe thead th {\n",
              "        text-align: right;\n",
              "    }\n",
              "</style>\n",
              "<table border=\"1\" class=\"dataframe\">\n",
              "  <thead>\n",
              "    <tr style=\"text-align: right;\">\n",
              "      <th></th>\n",
              "      <th>labels</th>\n",
              "    </tr>\n",
              "  </thead>\n",
              "  <tbody>\n",
              "    <tr>\n",
              "      <th>0</th>\n",
              "      <td>Physics</td>\n",
              "    </tr>\n",
              "    <tr>\n",
              "      <th>1</th>\n",
              "      <td>Physics</td>\n",
              "    </tr>\n",
              "    <tr>\n",
              "      <th>2</th>\n",
              "      <td>Statistics</td>\n",
              "    </tr>\n",
              "    <tr>\n",
              "      <th>3</th>\n",
              "      <td>Physics</td>\n",
              "    </tr>\n",
              "    <tr>\n",
              "      <th>4</th>\n",
              "      <td>Computer Science</td>\n",
              "    </tr>\n",
              "    <tr>\n",
              "      <th>5</th>\n",
              "      <td>Physics</td>\n",
              "    </tr>\n",
              "    <tr>\n",
              "      <th>6</th>\n",
              "      <td>Computer Science</td>\n",
              "    </tr>\n",
              "    <tr>\n",
              "      <th>7</th>\n",
              "      <td>Statistics</td>\n",
              "    </tr>\n",
              "    <tr>\n",
              "      <th>8</th>\n",
              "      <td>Computer Science,Statistics</td>\n",
              "    </tr>\n",
              "    <tr>\n",
              "      <th>9</th>\n",
              "      <td>Mathematics</td>\n",
              "    </tr>\n",
              "  </tbody>\n",
              "</table>\n",
              "</div>"
            ],
            "text/plain": [
              "                        labels\n",
              "0                      Physics\n",
              "1                      Physics\n",
              "2                   Statistics\n",
              "3                      Physics\n",
              "4             Computer Science\n",
              "5                      Physics\n",
              "6             Computer Science\n",
              "7                   Statistics\n",
              "8  Computer Science,Statistics\n",
              "9                  Mathematics"
            ]
          },
          "metadata": {
            "tags": []
          },
          "execution_count": 70
        }
      ]
    },
    {
      "cell_type": "code",
      "metadata": {
        "id": "4m-WPUqsGeuy"
      },
      "source": [
        "final_value.to_csv(\"Prediction_result.csv\",index=True,header=True)"
      ],
      "execution_count": 72,
      "outputs": []
    }
  ]
}