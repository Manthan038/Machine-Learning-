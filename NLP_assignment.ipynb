{
  "nbformat": 4,
  "nbformat_minor": 0,
  "metadata": {
    "colab": {
      "name": "EMPH2643_NLP assignment.ipynb",
      "provenance": [],
      "authorship_tag": "ABX9TyMbT9CLWMWoTJiXnEDJkxoR",
      "include_colab_link": true
    },
    "kernelspec": {
      "name": "python3",
      "display_name": "Python 3"
    },
    "language_info": {
      "name": "python"
    }
  },
  "cells": [
    {
      "cell_type": "markdown",
      "metadata": {
        "id": "view-in-github",
        "colab_type": "text"
      },
      "source": [
        "<a href=\"https://colab.research.google.com/github/manthan038/Machine-Learning-/blob/master/NLP_assignment.ipynb\" target=\"_parent\"><img src=\"https://colab.research.google.com/assets/colab-badge.svg\" alt=\"Open In Colab\"/></a>"
      ]
    },
    {
      "cell_type": "code",
      "metadata": {
        "colab": {
          "base_uri": "https://localhost:8080/"
        },
        "id": "pKSIKH-lNet_",
        "outputId": "3a476e29-26f0-487a-cc73-aa282d2fcd79"
      },
      "source": [
        "#installing contractions\n",
        "!pip install contractions"
      ],
      "execution_count": 7,
      "outputs": [
        {
          "output_type": "stream",
          "text": [
            "Collecting contractions\n",
            "  Downloading https://files.pythonhosted.org/packages/0a/04/d5e0bb9f2cef5d15616ebf68087a725c5dbdd71bd422bcfb35d709f98ce7/contractions-0.0.48-py2.py3-none-any.whl\n",
            "Collecting textsearch>=0.0.21\n",
            "  Downloading https://files.pythonhosted.org/packages/d3/fe/021d7d76961b5ceb9f8d022c4138461d83beff36c3938dc424586085e559/textsearch-0.0.21-py2.py3-none-any.whl\n",
            "Collecting pyahocorasick\n",
            "\u001b[?25l  Downloading https://files.pythonhosted.org/packages/4a/92/b3c70b8cf2b76f7e3e8b7243d6f06f7cb3bab6ada237b1bce57604c5c519/pyahocorasick-1.4.1.tar.gz (321kB)\n",
            "\u001b[K     |████████████████████████████████| 327kB 4.8MB/s \n",
            "\u001b[?25hCollecting anyascii\n",
            "\u001b[?25l  Downloading https://files.pythonhosted.org/packages/09/c7/61370d9e3c349478e89a5554c1e5d9658e1e3116cc4f2528f568909ebdf1/anyascii-0.1.7-py3-none-any.whl (260kB)\n",
            "\u001b[K     |████████████████████████████████| 266kB 7.1MB/s \n",
            "\u001b[?25hBuilding wheels for collected packages: pyahocorasick\n",
            "  Building wheel for pyahocorasick (setup.py) ... \u001b[?25l\u001b[?25hdone\n",
            "  Created wheel for pyahocorasick: filename=pyahocorasick-1.4.1-cp37-cp37m-linux_x86_64.whl size=85250 sha256=dac88fd40a8687335ce1a71f628366325822ee908aec8d251eed2d74ca3f34c8\n",
            "  Stored in directory: /root/.cache/pip/wheels/e4/ab/f7/cb39270df8f6126f3dd4c33d302357167086db460968cfc80c\n",
            "Successfully built pyahocorasick\n",
            "Installing collected packages: pyahocorasick, anyascii, textsearch, contractions\n",
            "Successfully installed anyascii-0.1.7 contractions-0.0.48 pyahocorasick-1.4.1 textsearch-0.0.21\n"
          ],
          "name": "stdout"
        }
      ]
    },
    {
      "cell_type": "code",
      "metadata": {
        "colab": {
          "base_uri": "https://localhost:8080/"
        },
        "id": "L2UUIgdlLtNf",
        "outputId": "986c0e13-d67a-48ad-b011-91afe1936415"
      },
      "source": [
        "import pandas as pd\n",
        "import nltk \n",
        "import numpy  as np\n",
        "import matplotlib as plt \n",
        "import contractions\n",
        "import re\n",
        "import spacy\n",
        "nltk.download('punkt')\n",
        "nltk.download('wordnet')\n",
        "nltk.download('stopwords')\n",
        "nltk.download('averaged_perceptron_tagger')\n",
        "from nltk.corpus import stopwords\n",
        "from nltk.tokenize import word_tokenize \n",
        "from nltk.stem import WordNetLemmatizer \n",
        "from sklearn.feature_extraction.text import CountVectorizer\n",
        "from sklearn.metrics import accuracy_score\n",
        "from sklearn.naive_bayes import MultinomialNB\n",
        "from sklearn.metrics import classification_report\n",
        "from sklearn.linear_model import LogisticRegression"
      ],
      "execution_count": 64,
      "outputs": [
        {
          "output_type": "stream",
          "text": [
            "[nltk_data] Downloading package punkt to /root/nltk_data...\n",
            "[nltk_data]   Package punkt is already up-to-date!\n",
            "[nltk_data] Downloading package wordnet to /root/nltk_data...\n",
            "[nltk_data]   Package wordnet is already up-to-date!\n",
            "[nltk_data] Downloading package stopwords to /root/nltk_data...\n",
            "[nltk_data]   Package stopwords is already up-to-date!\n",
            "[nltk_data] Downloading package averaged_perceptron_tagger to\n",
            "[nltk_data]     /root/nltk_data...\n",
            "[nltk_data]   Unzipping taggers/averaged_perceptron_tagger.zip.\n"
          ],
          "name": "stdout"
        }
      ]
    },
    {
      "cell_type": "markdown",
      "metadata": {
        "id": "qw3OzYFVPGE7"
      },
      "source": [
        "### Load Train data \"The Taj Hotel\""
      ]
    },
    {
      "cell_type": "code",
      "metadata": {
        "colab": {
          "base_uri": "https://localhost:8080/",
          "height": 288
        },
        "id": "npDn7KSwPUD4",
        "outputId": "d1b0aff6-749a-4a54-8b9d-0ce15078e3ce"
      },
      "source": [
        "TrainData = pd.read_csv(\"/content/TheTajHotel_Train.csv\")\n",
        "TrainData.head(5) # view the top 5 rows of data"
      ],
      "execution_count": 65,
      "outputs": [
        {
          "output_type": "execute_result",
          "data": {
            "text/html": [
              "<div>\n",
              "<style scoped>\n",
              "    .dataframe tbody tr th:only-of-type {\n",
              "        vertical-align: middle;\n",
              "    }\n",
              "\n",
              "    .dataframe tbody tr th {\n",
              "        vertical-align: top;\n",
              "    }\n",
              "\n",
              "    .dataframe thead th {\n",
              "        text-align: right;\n",
              "    }\n",
              "</style>\n",
              "<table border=\"1\" class=\"dataframe\">\n",
              "  <thead>\n",
              "    <tr style=\"text-align: right;\">\n",
              "      <th></th>\n",
              "      <th>ID</th>\n",
              "      <th>Silver</th>\n",
              "      <th>Status</th>\n",
              "      <th>Trusted Reviews</th>\n",
              "      <th>Last Reviewed On</th>\n",
              "      <th>Violation</th>\n",
              "      <th>Place</th>\n",
              "      <th>Review</th>\n",
              "      <th>Sentiment_Target</th>\n",
              "    </tr>\n",
              "  </thead>\n",
              "  <tbody>\n",
              "    <tr>\n",
              "      <th>0</th>\n",
              "      <td>679455653</td>\n",
              "      <td>False</td>\n",
              "      <td>finalized</td>\n",
              "      <td>3</td>\n",
              "      <td>2/21/2015 0:36</td>\n",
              "      <td>1.0\\r0.6667\\r0.6667</td>\n",
              "      <td>Jaipur</td>\n",
              "      <td>I'm not a huge Tea Post lover, but I've been t...</td>\n",
              "      <td>Negative</td>\n",
              "    </tr>\n",
              "    <tr>\n",
              "      <th>1</th>\n",
              "      <td>679455654</td>\n",
              "      <td>False</td>\n",
              "      <td>finalized</td>\n",
              "      <td>3</td>\n",
              "      <td>2/21/2015 0:27</td>\n",
              "      <td>1</td>\n",
              "      <td>Jaipur</td>\n",
              "      <td>Terrible customer service. ÃŽÂ¾I came in at 9:...</td>\n",
              "      <td>Negative</td>\n",
              "    </tr>\n",
              "    <tr>\n",
              "      <th>2</th>\n",
              "      <td>679455655</td>\n",
              "      <td>False</td>\n",
              "      <td>finalized</td>\n",
              "      <td>3</td>\n",
              "      <td>2/21/2015 0:26</td>\n",
              "      <td>1.0\\r1.0</td>\n",
              "      <td>Jaipur</td>\n",
              "      <td>First they \"lost\" my order, actually they gave...</td>\n",
              "      <td>Neutral</td>\n",
              "    </tr>\n",
              "    <tr>\n",
              "      <th>3</th>\n",
              "      <td>679455656</td>\n",
              "      <td>False</td>\n",
              "      <td>finalized</td>\n",
              "      <td>3</td>\n",
              "      <td>2/21/2015 0:27</td>\n",
              "      <td>0.6667</td>\n",
              "      <td>Jaipur</td>\n",
              "      <td>I see I'm not the only one giving 1 star. Only...</td>\n",
              "      <td>Negative</td>\n",
              "    </tr>\n",
              "    <tr>\n",
              "      <th>4</th>\n",
              "      <td>679455657</td>\n",
              "      <td>False</td>\n",
              "      <td>finalized</td>\n",
              "      <td>3</td>\n",
              "      <td>2/21/2015 0:27</td>\n",
              "      <td>1</td>\n",
              "      <td>Jaipur</td>\n",
              "      <td>Well, it's Tea Post's, so you know what the fo...</td>\n",
              "      <td>Negative</td>\n",
              "    </tr>\n",
              "  </tbody>\n",
              "</table>\n",
              "</div>"
            ],
            "text/plain": [
              "          ID  ...  Sentiment_Target\n",
              "0  679455653  ...          Negative\n",
              "1  679455654  ...          Negative\n",
              "2  679455655  ...           Neutral\n",
              "3  679455656  ...          Negative\n",
              "4  679455657  ...          Negative\n",
              "\n",
              "[5 rows x 9 columns]"
            ]
          },
          "metadata": {
            "tags": []
          },
          "execution_count": 65
        }
      ]
    },
    {
      "cell_type": "code",
      "metadata": {
        "colab": {
          "base_uri": "https://localhost:8080/"
        },
        "id": "AiXpWXBnT3GQ",
        "outputId": "48670930-ff3c-4db6-9fd7-180e92c10da5"
      },
      "source": [
        "#Number of rows\n",
        "print(\"Number of row {}\".format(TrainData.shape[0]))\n",
        "\n",
        "#Number of columns\n",
        "print(\"Number of Columns {}\".format(TrainData.shape[1]))"
      ],
      "execution_count": 66,
      "outputs": [
        {
          "output_type": "stream",
          "text": [
            "Number of row 1010\n",
            "Number of Columns 9\n"
          ],
          "name": "stdout"
        }
      ]
    },
    {
      "cell_type": "markdown",
      "metadata": {
        "id": "dnpZwakTVgfZ"
      },
      "source": [
        "### Load Test data"
      ]
    },
    {
      "cell_type": "code",
      "metadata": {
        "colab": {
          "base_uri": "https://localhost:8080/",
          "height": 189
        },
        "id": "OJDlTy4aVkjp",
        "outputId": "1d3c45ba-0390-4063-aa58-4d178bb7f6bd"
      },
      "source": [
        "TestData = pd.read_csv(\"/content/TheTajHotel_Test.csv\")\n",
        "TestData.head(5) # view the top 5 rows of data"
      ],
      "execution_count": 67,
      "outputs": [
        {
          "output_type": "execute_result",
          "data": {
            "text/html": [
              "<div>\n",
              "<style scoped>\n",
              "    .dataframe tbody tr th:only-of-type {\n",
              "        vertical-align: middle;\n",
              "    }\n",
              "\n",
              "    .dataframe tbody tr th {\n",
              "        vertical-align: top;\n",
              "    }\n",
              "\n",
              "    .dataframe thead th {\n",
              "        text-align: right;\n",
              "    }\n",
              "</style>\n",
              "<table border=\"1\" class=\"dataframe\">\n",
              "  <thead>\n",
              "    <tr style=\"text-align: right;\">\n",
              "      <th></th>\n",
              "      <th>ID</th>\n",
              "      <th>Silver</th>\n",
              "      <th>Status</th>\n",
              "      <th>Trusted Reviews</th>\n",
              "      <th>Last Reviewed On</th>\n",
              "      <th>Violation</th>\n",
              "      <th>Place</th>\n",
              "      <th>Review</th>\n",
              "      <th>Target_Class</th>\n",
              "    </tr>\n",
              "  </thead>\n",
              "  <tbody>\n",
              "    <tr>\n",
              "      <th>0</th>\n",
              "      <td>679456683</td>\n",
              "      <td>False</td>\n",
              "      <td>finalized</td>\n",
              "      <td>3</td>\n",
              "      <td>2/21/2015 0:54</td>\n",
              "      <td>0.7297</td>\n",
              "      <td>Pune</td>\n",
              "      <td>I have not had the same bad luck as other Yelp...</td>\n",
              "      <td>Positive</td>\n",
              "    </tr>\n",
              "    <tr>\n",
              "      <th>1</th>\n",
              "      <td>679456684</td>\n",
              "      <td>False</td>\n",
              "      <td>finalized</td>\n",
              "      <td>3</td>\n",
              "      <td>2/21/2015 0:30</td>\n",
              "      <td>0.6852\\r0.6667</td>\n",
              "      <td>Pune</td>\n",
              "      <td>Check your order before you drive off. Always ...</td>\n",
              "      <td>Negative</td>\n",
              "    </tr>\n",
              "    <tr>\n",
              "      <th>2</th>\n",
              "      <td>679456685</td>\n",
              "      <td>False</td>\n",
              "      <td>finalized</td>\n",
              "      <td>3</td>\n",
              "      <td>2/21/2015 0:22</td>\n",
              "      <td>0.6902\\r0.6584</td>\n",
              "      <td>Pune</td>\n",
              "      <td>After reading the other reviews, I realized my...</td>\n",
              "      <td>Neutral</td>\n",
              "    </tr>\n",
              "    <tr>\n",
              "      <th>3</th>\n",
              "      <td>679456686</td>\n",
              "      <td>False</td>\n",
              "      <td>finalized</td>\n",
              "      <td>3</td>\n",
              "      <td>2/21/2015 0:15</td>\n",
              "      <td>1.0\\r0.6891</td>\n",
              "      <td>Pune</td>\n",
              "      <td>I don't like this place at all, It is always d...</td>\n",
              "      <td>Negative</td>\n",
              "    </tr>\n",
              "    <tr>\n",
              "      <th>4</th>\n",
              "      <td>679456687</td>\n",
              "      <td>False</td>\n",
              "      <td>finalized</td>\n",
              "      <td>3</td>\n",
              "      <td>2/21/2015 0:36</td>\n",
              "      <td>1</td>\n",
              "      <td>Pune</td>\n",
              "      <td>I love Tea PostI had 5 ice cream cones once. N...</td>\n",
              "      <td>Positive</td>\n",
              "    </tr>\n",
              "  </tbody>\n",
              "</table>\n",
              "</div>"
            ],
            "text/plain": [
              "          ID  ...  Target_Class\n",
              "0  679456683  ...      Positive\n",
              "1  679456684  ...      Negative\n",
              "2  679456685  ...       Neutral\n",
              "3  679456686  ...      Negative\n",
              "4  679456687  ...      Positive\n",
              "\n",
              "[5 rows x 9 columns]"
            ]
          },
          "metadata": {
            "tags": []
          },
          "execution_count": 67
        }
      ]
    },
    {
      "cell_type": "code",
      "metadata": {
        "colab": {
          "base_uri": "https://localhost:8080/"
        },
        "id": "wg2XuczdV9yQ",
        "outputId": "49c44c78-a0a8-440b-8f7c-48ed57ad352a"
      },
      "source": [
        "#Number of rows\n",
        "print(\"Number of row {}\".format(TestData.shape[0]))\n",
        "\n",
        "#Number of columns\n",
        "print(\"Number of Columns {}\".format(TestData.shape[1]))"
      ],
      "execution_count": 68,
      "outputs": [
        {
          "output_type": "stream",
          "text": [
            "Number of row 515\n",
            "Number of Columns 9\n"
          ],
          "name": "stdout"
        }
      ]
    },
    {
      "cell_type": "code",
      "metadata": {
        "colab": {
          "base_uri": "https://localhost:8080/",
          "height": 90
        },
        "id": "qJZVHsTIWJ9K",
        "outputId": "4d467920-a57f-460f-abf6-2ce08099e6ca"
      },
      "source": [
        "TrainData[\"Review\"][0]\n",
        "TestData[\"Review\"][0]"
      ],
      "execution_count": 69,
      "outputs": [
        {
          "output_type": "execute_result",
          "data": {
            "application/vnd.google.colaboratory.intrinsic+json": {
              "type": "string"
            },
            "text/plain": [
              "'I have not had the same bad luck as other Yelpers here. ÃŽÂ¾The drive thru is quick and the people kids working the windows always specifically say \"We appreciate your business.\" Doesn\\'t feel as smug as a Chikfila worker when they say it.They offer two order lines in the drive thru and additional waiting areas for people with large orders. Keeps the traffic moving.Pretty easy to get in and out, and an efficient drive thru is about all you can ask from a Tea Post\\'s.'"
            ]
          },
          "metadata": {
            "tags": []
          },
          "execution_count": 69
        }
      ]
    },
    {
      "cell_type": "code",
      "metadata": {
        "colab": {
          "base_uri": "https://localhost:8080/",
          "height": 46
        },
        "id": "8ErIqbjJWPkI",
        "outputId": "aab47f84-d1c4-4d6d-d358-f27fa9c8354f"
      },
      "source": [
        "# check for the null value\n",
        "TrainData[pd.isnull(TrainData[\"Review\"])]"
      ],
      "execution_count": 70,
      "outputs": [
        {
          "output_type": "execute_result",
          "data": {
            "text/html": [
              "<div>\n",
              "<style scoped>\n",
              "    .dataframe tbody tr th:only-of-type {\n",
              "        vertical-align: middle;\n",
              "    }\n",
              "\n",
              "    .dataframe tbody tr th {\n",
              "        vertical-align: top;\n",
              "    }\n",
              "\n",
              "    .dataframe thead th {\n",
              "        text-align: right;\n",
              "    }\n",
              "</style>\n",
              "<table border=\"1\" class=\"dataframe\">\n",
              "  <thead>\n",
              "    <tr style=\"text-align: right;\">\n",
              "      <th></th>\n",
              "      <th>ID</th>\n",
              "      <th>Silver</th>\n",
              "      <th>Status</th>\n",
              "      <th>Trusted Reviews</th>\n",
              "      <th>Last Reviewed On</th>\n",
              "      <th>Violation</th>\n",
              "      <th>Place</th>\n",
              "      <th>Review</th>\n",
              "      <th>Sentiment_Target</th>\n",
              "    </tr>\n",
              "  </thead>\n",
              "  <tbody>\n",
              "  </tbody>\n",
              "</table>\n",
              "</div>"
            ],
            "text/plain": [
              "Empty DataFrame\n",
              "Columns: [ID, Silver, Status, Trusted Reviews, Last Reviewed On, Violation, Place, Review, Sentiment_Target]\n",
              "Index: []"
            ]
          },
          "metadata": {
            "tags": []
          },
          "execution_count": 70
        }
      ]
    },
    {
      "cell_type": "markdown",
      "metadata": {
        "id": "l-hAZtAIWvqe"
      },
      "source": [
        "### convert all review text in lower case"
      ]
    },
    {
      "cell_type": "code",
      "metadata": {
        "colab": {
          "base_uri": "https://localhost:8080/",
          "height": 90
        },
        "id": "nVtqzv49WpjP",
        "outputId": "adb44f34-ccdc-48fe-8745-3034c8c4ba27"
      },
      "source": [
        "TrainData[\"Review\"] = TrainData[\"Review\"].str.lower()\n",
        "TestData[\"Review\"] = TestData[\"Review\"].str.lower()\n",
        "#check the data\n",
        "TrainData[\"Review\"][1]"
      ],
      "execution_count": 71,
      "outputs": [
        {
          "output_type": "execute_result",
          "data": {
            "application/vnd.google.colaboratory.intrinsic+json": {
              "type": "string"
            },
            "text/plain": [
              "'terrible customer service. ãžâ¾i came in at 9:30pm and stood in front of the register and no one bothered to say anything or help me for 5 minutes. ãžâ¾there was no one else waiting for their food inside either, just outside at the window. ãžâ¾ i left and went to chickfila next door and was greeted before i was all the way inside. this tea post is also dirty, the floor was covered with dropped food. obviously filled with surly and unhappy workers.'"
            ]
          },
          "metadata": {
            "tags": []
          },
          "execution_count": 71
        }
      ]
    },
    {
      "cell_type": "markdown",
      "metadata": {
        "id": "GTCf0ENlXGQK"
      },
      "source": [
        "### Contraction in train and test data"
      ]
    },
    {
      "cell_type": "code",
      "metadata": {
        "colab": {
          "base_uri": "https://localhost:8080/",
          "height": 90
        },
        "id": "wcEUTKdRXCZB",
        "outputId": "ddd69ab8-0959-495e-f8af-6daf6bc35946"
      },
      "source": [
        "for index_label, row_series in TrainData.iterrows():\n",
        "  TrainData.at[index_label, \"Review\"] = contractions.fix(row_series[\"Review\"])\n",
        "for index_label, row_series in TestData.iterrows():\n",
        "  TestData.at[index_label, \"Review\"] = contractions.fix(row_series[\"Review\"])\n",
        "\n",
        "#check data after removing contraction\n",
        "TrainData[\"Review\"][1]"
      ],
      "execution_count": 72,
      "outputs": [
        {
          "output_type": "execute_result",
          "data": {
            "application/vnd.google.colaboratory.intrinsic+json": {
              "type": "string"
            },
            "text/plain": [
              "'terrible customer service. ãžâ¾i came in at 9:30pm and stood in front of the register and no one bothered to say anything or help me for 5 minutes. ãžâ¾there was no one else waiting for their food inside either, just outside at the window. ãžâ¾ i left and went to chickfila next door and was greeted before i was all the way inside. this tea post is also dirty, the floor was covered with dropped food. obviously filled with surly and unhappy workers.'"
            ]
          },
          "metadata": {
            "tags": []
          },
          "execution_count": 72
        }
      ]
    },
    {
      "cell_type": "markdown",
      "metadata": {
        "id": "kI5JhQHnXdqm"
      },
      "source": [
        "### remove all numeric values"
      ]
    },
    {
      "cell_type": "code",
      "metadata": {
        "colab": {
          "base_uri": "https://localhost:8080/",
          "height": 90
        },
        "id": "Lqh6yn2EXYGg",
        "outputId": "c91c62fe-2889-47c4-935f-d82f812b75e2"
      },
      "source": [
        "for index_label, row_series in TrainData.iterrows():\n",
        "  TrainData.at[index_label, \"Review\"] = re.sub(r'\\d+', '', row_series[\"Review\"])\n",
        "for index_label, row_series in TestData.iterrows():\n",
        "  TestData.at[index_label, \"Review\"] = re.sub(r'\\d+', '', row_series[\"Review\"])\n",
        "\n",
        "#check the data after removing numeric values\n",
        "TrainData[\"Review\"][1]"
      ],
      "execution_count": 73,
      "outputs": [
        {
          "output_type": "execute_result",
          "data": {
            "application/vnd.google.colaboratory.intrinsic+json": {
              "type": "string"
            },
            "text/plain": [
              "'terrible customer service. ãžâ¾i came in at :pm and stood in front of the register and no one bothered to say anything or help me for  minutes. ãžâ¾there was no one else waiting for their food inside either, just outside at the window. ãžâ¾ i left and went to chickfila next door and was greeted before i was all the way inside. this tea post is also dirty, the floor was covered with dropped food. obviously filled with surly and unhappy workers.'"
            ]
          },
          "metadata": {
            "tags": []
          },
          "execution_count": 73
        }
      ]
    },
    {
      "cell_type": "markdown",
      "metadata": {
        "id": "jdDokia2Xt2G"
      },
      "source": [
        "### Remove the special charecters and punctuations"
      ]
    },
    {
      "cell_type": "code",
      "metadata": {
        "colab": {
          "base_uri": "https://localhost:8080/",
          "height": 72
        },
        "id": "_arQV3TZXpgY",
        "outputId": "91d10296-f1bf-43eb-afe8-fbd7e84dbec0"
      },
      "source": [
        "for index_label, row_series in TrainData.iterrows():\n",
        "  TrainData.at[index_label, \"Review\"] = re.sub(r'[^A-Za-z0-9 ]+', '', row_series[\"Review\"])\n",
        "for index_label, row_series in TestData.iterrows():\n",
        "  TestData.at[index_label, \"Review\"] = re.sub(r'[^A-Za-z0-9 ]+', '', row_series[\"Review\"])\n",
        "\n",
        "#check the data after removing charecters and punctuations\n",
        "TrainData[\"Review\"][1]"
      ],
      "execution_count": 74,
      "outputs": [
        {
          "output_type": "execute_result",
          "data": {
            "application/vnd.google.colaboratory.intrinsic+json": {
              "type": "string"
            },
            "text/plain": [
              "'terrible customer service i came in at pm and stood in front of the register and no one bothered to say anything or help me for  minutes there was no one else waiting for their food inside either just outside at the window  i left and went to chickfila next door and was greeted before i was all the way inside this tea post is also dirty the floor was covered with dropped food obviously filled with surly and unhappy workers'"
            ]
          },
          "metadata": {
            "tags": []
          },
          "execution_count": 74
        }
      ]
    },
    {
      "cell_type": "markdown",
      "metadata": {
        "id": "gNUFKWRTYDsC"
      },
      "source": [
        "### Remove all the stops word "
      ]
    },
    {
      "cell_type": "code",
      "metadata": {
        "id": "BAF6oFW_YU2F"
      },
      "source": [
        "#Get the stop words \n",
        "stop_words = set(stopwords.words(\"english\"))\n",
        "\n",
        "\n",
        "for index_label, row_series in TrainData.iterrows():\n",
        "  TrainDataToken = word_tokenize(row_series[\"Review\"])\n",
        "  TrainDataNoStopWords = [word for word in TrainDataToken if word not in stop_words]\n",
        "  TrainData.at[index_label, \"Review\"] = TrainDataNoStopWords\n",
        "\n",
        "for index_label, row_series in TestData.iterrows():\n",
        "  TestDataToken = word_tokenize(row_series[\"Review\"])\n",
        "  TestDataNoStopWords = [word for word in TestDataToken if word not in stop_words]\n",
        "  TestData.at[index_label, \"Review\"] = TestDataNoStopWords"
      ],
      "execution_count": 75,
      "outputs": []
    },
    {
      "cell_type": "code",
      "metadata": {
        "colab": {
          "base_uri": "https://localhost:8080/"
        },
        "id": "MAMps7khYuBk",
        "outputId": "77981d21-2158-4c2c-c3bc-be5ed4750310"
      },
      "source": [
        "# check the review row of data\n",
        "TrainData[\"Review\"].head()"
      ],
      "execution_count": 76,
      "outputs": [
        {
          "output_type": "execute_result",
          "data": {
            "text/plain": [
              "0    [I, huge, tea, post, lover, I, better, ones, f...\n",
              "1    [terrible, customer, service, came, pm, stood,...\n",
              "2    [first, lost, order, actually, gave, someone, ...\n",
              "3         [see, I, one, giving, star, star, need, say]\n",
              "4    [well, tea, posts, know, food, review, reflect...\n",
              "Name: Review, dtype: object"
            ]
          },
          "metadata": {
            "tags": []
          },
          "execution_count": 76
        }
      ]
    },
    {
      "cell_type": "markdown",
      "metadata": {
        "id": "tjMLppJkY4Z1"
      },
      "source": [
        "### Now Lemmitization"
      ]
    },
    {
      "cell_type": "code",
      "metadata": {
        "id": "X_Wo56QvZDjN"
      },
      "source": [
        "lemmatizer = WordNetLemmatizer()\n",
        "\n",
        "for index_label, row_number in TrainData.iterrows():\n",
        "  lemmatized_words = [lemmatizer.lemmatize(word = x) for x in row_number[\"Review\"]]\n",
        "  TrainData.at[index_label, \"Review\"] = lemmatized_words\n",
        "\n",
        "for index_label, row_number in TestData.iterrows():\n",
        "  lemmatized_words = [lemmatizer.lemmatize(word = x) for x in row_number[\"Review\"]]\n",
        "  TestData.at[index_label, \"Review\"] = lemmatized_words"
      ],
      "execution_count": 77,
      "outputs": []
    },
    {
      "cell_type": "code",
      "metadata": {
        "colab": {
          "base_uri": "https://localhost:8080/"
        },
        "id": "B8imsajBZMlD",
        "outputId": "ff70797d-ecdf-4d56-d5aa-c392c54a3d17"
      },
      "source": [
        "# Check the target column\n",
        "TrainData[\"Review\"].head()"
      ],
      "execution_count": 78,
      "outputs": [
        {
          "output_type": "execute_result",
          "data": {
            "text/plain": [
              "0    [I, huge, tea, post, lover, I, better, one, fa...\n",
              "1    [terrible, customer, service, came, pm, stood,...\n",
              "2    [first, lost, order, actually, gave, someone, ...\n",
              "3         [see, I, one, giving, star, star, need, say]\n",
              "4    [well, tea, post, know, food, review, reflects...\n",
              "Name: Review, dtype: object"
            ]
          },
          "metadata": {
            "tags": []
          },
          "execution_count": 78
        }
      ]
    },
    {
      "cell_type": "markdown",
      "metadata": {
        "id": "DvqpOkSgZ3nr"
      },
      "source": [
        "### Noun tagging"
      ]
    },
    {
      "cell_type": "code",
      "metadata": {
        "id": "OBs1wYBdZ6Wb"
      },
      "source": [
        "TrainData[\"Review_1\"] = TrainData[\"Review\"]\n",
        "TestData[\"Review_1\"] = TestData[\"Review\"]\n",
        "\n",
        "is_noun = lambda pos: pos[:2] == 'NN'\n",
        "\n",
        "for index_label, row_series in TrainData.iterrows():\n",
        "  nouns = [word for (word, pos) in nltk.pos_tag(row_series[\"Review_1\"]) if is_noun(pos)]\n",
        "  TrainData.at[index_label, \"Review_1\"] = nouns\n",
        "for index_label, row_series in TrainData.iterrows():\n",
        "  TrainData.at[index_label, \"Review_1\"] = \" \".join(row_series[\"Review_1\"])\n",
        "for index_label, row_series in TestData.iterrows():\n",
        "  TestData.at[index_label, \"Review_1\"] = \" \".join(row_series[\"Review_1\"])"
      ],
      "execution_count": 79,
      "outputs": []
    },
    {
      "cell_type": "code",
      "metadata": {
        "colab": {
          "base_uri": "https://localhost:8080/",
          "height": 643
        },
        "id": "mKlmelVnZ9uj",
        "outputId": "5466b171-a262-497d-9caf-eb73e2cd15c2"
      },
      "source": [
        "import seaborn as sns\n",
        "import matplotlib.pyplot as plt\n",
        "cv = CountVectorizer(max_df=0.9, stop_words=stop_words, max_features=1000, ngram_range=(1,3))\n",
        "\n",
        "def get_top_n_words(review, n=None):\n",
        "  vec = CountVectorizer().fit(review)\n",
        "  bag_of_words = vec.transform(review)\n",
        "  sum_words = bag_of_words.sum(axis=0)\n",
        "  words_frequency = [(word, sum_words[0, idx]) for word, idx in vec.vocabulary_.items()]\n",
        "  words_frequency = sorted(words_frequency, key = lambda x: x[1], reverse=True)\n",
        "  return words_frequency[:n]\n",
        "\n",
        "top_words = get_top_n_words(TrainData[\"Review_1\"], n=25)\n",
        "top_df = pd.DataFrame(top_words)\n",
        "top_df.columns = [\"Words\", \"Frequency(Words)\"]\n",
        "\n",
        "sns.set(rc={'figure.figsize':(15,10)})\n",
        "g = sns.barplot(x=\"Words\", y=\"Frequency(Words)\", data=top_df)\n",
        "g.set_xticklabels(g.get_xticklabels(), rotation=40)\n",
        "plt.show()"
      ],
      "execution_count": 85,
      "outputs": [
        {
          "output_type": "display_data",
          "data": {
            "image/png": "[encoded data removed]",
            "text/plain": [
              "<Figure size 1080x720 with 1 Axes>"
            ]
          },
          "metadata": {
            "tags": []
          }
        }
      ]
    },
    {
      "cell_type": "code",
      "metadata": {
        "id": "etxg4ta2ajPa"
      },
      "source": [
        "cv = CountVectorizer(max_df=0.9, stop_words=stop_words, max_features=10000, ngram_range=(1,3))\n",
        "X_train = cv.fit_transform(TrainData[\"Review_1\"])\n",
        "\n",
        "cv = CountVectorizer(max_df=0.9, stop_words=stop_words, max_features=10000, ngram_range=(1,3))\n",
        "X_test = cv.fit_transform(TestData[\"Review_1\"])"
      ],
      "execution_count": 87,
      "outputs": []
    },
    {
      "cell_type": "code",
      "metadata": {
        "id": "hB9jXgskaqea"
      },
      "source": [
        "TrainData[\"label\"] = TrainData[\"Sentiment_Target\"].map({'Positive':1, 'Negative':-1, 'Neutral':0})\n",
        "TestData[\"label\"] = TestData[\"Target_Class\"].map({'Positive':1, 'Negative':-1, 'Neutral':0})\n",
        "y_train = TrainData[\"label\"]\n",
        "y_test = TestData[\"label\"]"
      ],
      "execution_count": 88,
      "outputs": []
    },
    {
      "cell_type": "markdown",
      "metadata": {
        "id": "13f_r-wQazgr"
      },
      "source": [
        "### Using Logestic Regression"
      ]
    },
    {
      "cell_type": "code",
      "metadata": {
        "colab": {
          "base_uri": "https://localhost:8080/"
        },
        "id": "bCCNDQbBat71",
        "outputId": "151a14dd-7ab2-4568-f9ed-fd13f277bf26"
      },
      "source": [
        "for c in [0.001,0.01, 0.05, 0.25,0.3, 0.5]:\n",
        "  lr = LogisticRegression(C=c)\n",
        "  lr.fit(X_train, y_train)\n",
        "  print(\"Accuracy for C = {}: {}\".format(c, accuracy_score(y_test, lr.predict(X_test))))"
      ],
      "execution_count": 90,
      "outputs": [
        {
          "output_type": "stream",
          "text": [
            "Accuracy for C = 0.001: 0.6310679611650486\n",
            "Accuracy for C = 0.01: 0.6310679611650486\n",
            "Accuracy for C = 0.05: 0.596116504854369\n",
            "Accuracy for C = 0.25: 0.537864077669903\n",
            "Accuracy for C = 0.3: 0.5262135922330097\n",
            "Accuracy for C = 0.5: 0.512621359223301\n"
          ],
          "name": "stdout"
        }
      ]
    },
    {
      "cell_type": "markdown",
      "metadata": {
        "id": "j4F-_gllbK3y"
      },
      "source": [
        "### Using Naive Bayes Classifier"
      ]
    },
    {
      "cell_type": "code",
      "metadata": {
        "colab": {
          "base_uri": "https://localhost:8080/"
        },
        "id": "mnwEh7OnbPvI",
        "outputId": "bdc646c8-d8a7-4c44-9ec0-8991ee925241"
      },
      "source": [
        "clf = MultinomialNB()\n",
        "clf.fit(X_train, y_train)\n",
        "clf.score(X_test, y_test)\n",
        "y_pred = clf.predict(X_test)\n",
        "print(classification_report(y_test, y_pred))"
      ],
      "execution_count": 91,
      "outputs": [
        {
          "output_type": "stream",
          "text": [
            "              precision    recall  f1-score   support\n",
            "\n",
            "          -1       0.58      0.08      0.14       325\n",
            "           0       0.15      0.48      0.22        75\n",
            "           1       0.23      0.46      0.31       115\n",
            "\n",
            "    accuracy                           0.22       515\n",
            "   macro avg       0.32      0.34      0.22       515\n",
            "weighted avg       0.44      0.22      0.19       515\n",
            "\n"
          ],
          "name": "stdout"
        }
      ]
    },
    {
      "cell_type": "code",
      "metadata": {
        "colab": {
          "base_uri": "https://localhost:8080/"
        },
        "id": "V3vtAMazbTd4",
        "outputId": "53fc6bbd-8071-4830-e25a-061c0447c3f8"
      },
      "source": [
        "# Accuracy score using Legestic Regression at c=0.01 \n",
        "final_model = LogisticRegression(C=0.01)\n",
        "final_model.fit(X_train, y_train)\n",
        "print(\"Final Accuracy: {} %\".format(accuracy_score(y_test, final_model.predict(X_test))*100))"
      ],
      "execution_count": 93,
      "outputs": [
        {
          "output_type": "stream",
          "text": [
            "Final Accuracy: 63.10679611650486 %\n"
          ],
          "name": "stdout"
        }
      ]
    }
  ]
}